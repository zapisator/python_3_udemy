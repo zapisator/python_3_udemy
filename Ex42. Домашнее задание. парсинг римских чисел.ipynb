{
 "cells": [
  {
   "cell_type": "code",
   "execution_count": 3,
   "metadata": {},
   "outputs": [],
   "source": [
    "def roman_to_arab(roman_nb):\n",
    "    roman_nb = list(roman_nb)\n",
    "    roman_arab_dict = dict(I = 1, V = 5, X = 10, L = 50, C = 100, D = 500)\n",
    "    list_nb = []\n",
    "    curr_nb = 0\n",
    "    \n",
    "    for letter in roman_nb:\n",
    "        list_nb.append(roman_arab_dict.get(letter))\n",
    "        \n",
    "    list_items_left = len(list_nb)\n",
    "    i = 0\n",
    "    if list_items_left > 0:\n",
    "        list_items_left -= 1\n",
    "        while list_items_left:\n",
    "            list_items_left -= 1\n",
    "            \n",
    "            if list_nb[i] >= list_nb[i + 1]:\n",
    "                i += 1\n",
    "                continue ;\n",
    "            else:\n",
    "                list_nb[i] *= -1\n",
    "                i += 1\n",
    "                \n",
    "    return (sum(list_nb))"
   ]
  },
  {
   "cell_type": "code",
   "execution_count": 5,
   "metadata": {},
   "outputs": [
    {
     "name": "stdout",
     "output_type": "stream",
     "text": [
      "559\n"
     ]
    }
   ],
   "source": [
    "print(roman_to_arab(\"DLCVXIV\"))"
   ]
  },
  {
   "cell_type": "code",
   "execution_count": null,
   "metadata": {},
   "outputs": [],
   "source": []
  }
 ],
 "metadata": {
  "kernelspec": {
   "display_name": "Python 3",
   "language": "python",
   "name": "python3"
  },
  "language_info": {
   "codemirror_mode": {
    "name": "ipython",
    "version": 3
   },
   "file_extension": ".py",
   "mimetype": "text/x-python",
   "name": "python",
   "nbconvert_exporter": "python",
   "pygments_lexer": "ipython3",
   "version": "3.7.4"
  }
 },
 "nbformat": 4,
 "nbformat_minor": 2
}
