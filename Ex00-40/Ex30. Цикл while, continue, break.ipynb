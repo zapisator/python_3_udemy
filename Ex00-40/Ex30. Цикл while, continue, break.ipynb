{
 "cells": [
  {
   "cell_type": "code",
   "execution_count": 3,
   "metadata": {},
   "outputs": [
    {
     "name": "stdout",
     "output_type": "stream",
     "text": [
      "x equals 5\n",
      "x equals 4\n",
      "x equals 3\n",
      "x equals 2\n",
      "x equals 1\n",
      "Condition is not met.\n"
     ]
    }
   ],
   "source": [
    "x = 5\n",
    "\n",
    "while x:\n",
    "    print(f\"x equals {x}\")\n",
    "    x -= 1\n",
    "else:\n",
    "    print(\"Condition is not met.\")\n",
    "    \n",
    "x = None"
   ]
  },
  {
   "cell_type": "code",
   "execution_count": 7,
   "metadata": {},
   "outputs": [
    {
     "name": "stdout",
     "output_type": "stream",
     "text": [
      "x_i is 1\n",
      "x_i is 2\n",
      "x_i is 3\n",
      "x_i is 4\n",
      "x_i is 5\n",
      "x_i is 6\n",
      "x_i is 7\n",
      "16\n"
     ]
    }
   ],
   "source": [
    "x = range(1, 10)\n",
    "sum = 0\n",
    "\n",
    "for x_i in x:\n",
    "    print(f\"x_i is {x_i}\")\n",
    "    if not (x_i % 2):\n",
    "        continue\n",
    "    else:\n",
    "        sum += x_i\n",
    "    if sum >= 10:\n",
    "        break\n",
    "print(sum)\n",
    "\n",
    "x = None\n",
    "sum = None"
   ]
  },
  {
   "cell_type": "code",
   "execution_count": 12,
   "metadata": {},
   "outputs": [
    {
     "name": "stdout",
     "output_type": "stream",
     "text": [
      "10\n",
      "\n",
      "1\n",
      "2\n",
      "3\n",
      "4\n",
      "5\n",
      "6\n",
      "7\n",
      "8\n",
      "9\n",
      "10\n"
     ]
    }
   ],
   "source": [
    "x = range(1, 11)\n",
    "\n",
    "for x_i in x:\n",
    "    pass\n",
    "print(x_i)\n",
    "\n",
    "x = None\n",
    "print()\n",
    "x = range(1, 11)\n",
    "\n",
    "for x_i in x:\n",
    "    pass\n",
    "    print(x_i)"
   ]
  },
  {
   "cell_type": "code",
   "execution_count": null,
   "metadata": {},
   "outputs": [],
   "source": []
  }
 ],
 "metadata": {
  "kernelspec": {
   "display_name": "Python 3",
   "language": "python",
   "name": "python3"
  },
  "language_info": {
   "codemirror_mode": {
    "name": "ipython",
    "version": 3
   },
   "file_extension": ".py",
   "mimetype": "text/x-python",
   "name": "python",
   "nbconvert_exporter": "python",
   "pygments_lexer": "ipython3",
   "version": "3.7.4"
  }
 },
 "nbformat": 4,
 "nbformat_minor": 2
}
