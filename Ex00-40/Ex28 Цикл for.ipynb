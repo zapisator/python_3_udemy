{
 "cells": [
  {
   "cell_type": "code",
   "execution_count": 44,
   "metadata": {},
   "outputs": [
    {
     "name": "stdout",
     "output_type": "stream",
     "text": [
      "[1, 2, 3, 4, 5] <class 'list'> \n",
      "\n",
      "| 1 |\n",
      "| 2 |\n",
      "| 3 |\n",
      "| 4 |\n",
      "| 5 |\n",
      "\n"
     ]
    },
    {
     "ename": "ValueError",
     "evalue": "Precision not allowed in integer format specifier",
     "output_type": "error",
     "traceback": [
      "\u001b[0;31m---------------------------------------------------------------------------\u001b[0m",
      "\u001b[0;31mValueError\u001b[0m                                Traceback (most recent call last)",
      "\u001b[0;32m<ipython-input-44-93edf1bcaee5>\u001b[0m in \u001b[0;36m<module>\u001b[0;34m\u001b[0m\n\u001b[1;32m     10\u001b[0m \u001b[0;34m\u001b[0m\u001b[0m\n\u001b[1;32m     11\u001b[0m \u001b[0;32mfor\u001b[0m \u001b[0mi\u001b[0m \u001b[0;32min\u001b[0m \u001b[0mlist_n\u001b[0m\u001b[0;34m:\u001b[0m\u001b[0;34m\u001b[0m\u001b[0;34m\u001b[0m\u001b[0m\n\u001b[0;32m---> 12\u001b[0;31m     \u001b[0mprint\u001b[0m\u001b[0;34m(\u001b[0m\u001b[0;34m\"|\"\u001b[0m\u001b[0;34m,\u001b[0m \u001b[0;34mf'{i ** 2: 2.0}'\u001b[0m\u001b[0;34m,\u001b[0m \u001b[0;34m\"|\"\u001b[0m\u001b[0;34m)\u001b[0m\u001b[0;34m\u001b[0m\u001b[0;34m\u001b[0m\u001b[0m\n\u001b[0m\u001b[1;32m     13\u001b[0m \u001b[0mprint\u001b[0m\u001b[0;34m(\u001b[0m\u001b[0;34m''\u001b[0m\u001b[0;34m)\u001b[0m\u001b[0;34m\u001b[0m\u001b[0;34m\u001b[0m\u001b[0m\n\u001b[1;32m     14\u001b[0m \u001b[0;34m\u001b[0m\u001b[0m\n",
      "\u001b[0;31mValueError\u001b[0m: Precision not allowed in integer format specifier"
     ]
    }
   ],
   "source": [
    "list_n = [1, 2, 3, 4, 5]\n",
    "set_n = set()\n",
    "\n",
    "\n",
    "print(list_n, type(list_n), '\\n')\n",
    "\n",
    "for i in list_n:\n",
    "    print(\"|\", i, \"|\")\n",
    "print('')\n",
    "\n",
    "for i in list_n:\n",
    "    print(\"|\", f'{i ** 2: 2}', \"|\")\n",
    "print('')\n",
    "\n",
    "print(set_n, type(set_n), '\\n')\n",
    "\n",
    "list_n = None\n",
    "set_n = None"
   ]
  },
  {
   "cell_type": "code",
   "execution_count": 26,
   "metadata": {},
   "outputs": [
    {
     "name": "stdout",
     "output_type": "stream",
     "text": [
      "| 1 |\n",
      "| 2 |\n",
      "| 3 |\n",
      "| 4 |\n",
      "| 5 |\n",
      "\n",
      "<class 'range'>\n"
     ]
    }
   ],
   "source": [
    "range_n = range(1, 6)\n",
    "\n",
    "for i in range_n:\n",
    "    print('|', i, '|')\n",
    "print()\n",
    "print(type(range_n))\n",
    "\n",
    "range_n = None"
   ]
  },
  {
   "cell_type": "code",
   "execution_count": 27,
   "metadata": {},
   "outputs": [
    {
     "name": "stdout",
     "output_type": "stream",
     "text": [
      "1\n",
      "2\n",
      "3\n",
      "4\n",
      "5\n",
      "\n"
     ]
    }
   ],
   "source": [
    "for i in range(1, 6):\n",
    "    print(i)\n",
    "print()"
   ]
  },
  {
   "cell_type": "code",
   "execution_count": 29,
   "metadata": {},
   "outputs": [
    {
     "name": "stdout",
     "output_type": "stream",
     "text": [
      "1\n",
      "2\n",
      "Fizz\n",
      "4\n",
      "Buzz\n",
      "Fizz\n",
      "7\n",
      "8\n",
      "Fizz\n",
      "Buzz\n",
      "11\n",
      "Fizz\n",
      "13\n",
      "14\n",
      "FizzBuzz\n",
      "16\n",
      "17\n",
      "Fizz\n",
      "19\n",
      "Buzz\n",
      "Fizz\n",
      "22\n",
      "23\n",
      "Fizz\n",
      "Buzz\n",
      "26\n",
      "Fizz\n",
      "28\n",
      "29\n",
      "FizzBuzz\n",
      "31\n",
      "32\n",
      "Fizz\n",
      "34\n",
      "Buzz\n",
      "Fizz\n",
      "37\n",
      "38\n",
      "Fizz\n",
      "Buzz\n",
      "41\n",
      "Fizz\n",
      "43\n",
      "44\n",
      "FizzBuzz\n",
      "46\n",
      "47\n",
      "Fizz\n",
      "49\n",
      "Buzz\n",
      "Fizz\n",
      "52\n",
      "53\n",
      "Fizz\n",
      "Buzz\n",
      "56\n",
      "Fizz\n",
      "58\n",
      "59\n",
      "FizzBuzz\n",
      "61\n",
      "62\n",
      "Fizz\n",
      "64\n",
      "Buzz\n",
      "Fizz\n",
      "67\n",
      "68\n",
      "Fizz\n",
      "Buzz\n",
      "71\n",
      "Fizz\n",
      "73\n",
      "74\n",
      "FizzBuzz\n",
      "76\n",
      "77\n",
      "Fizz\n",
      "79\n",
      "Buzz\n",
      "Fizz\n",
      "82\n",
      "83\n",
      "Fizz\n",
      "Buzz\n",
      "86\n",
      "Fizz\n",
      "88\n",
      "89\n",
      "FizzBuzz\n",
      "91\n",
      "92\n",
      "Fizz\n",
      "94\n",
      "Buzz\n",
      "Fizz\n",
      "97\n",
      "98\n",
      "Fizz\n",
      "Buzz\n"
     ]
    }
   ],
   "source": [
    "for i in range(1, 101):\n",
    "    if not (i % 3) and (i % 5):\n",
    "        print(\"Fizz\")\n",
    "        continue\n",
    "    elif not (i % 5) and (i % 3):\n",
    "        print(\"Buzz\")\n",
    "        continue\n",
    "    elif not (i % 3) and not (i % 5):\n",
    "        print(\"FizzBuzz\")\n",
    "        continue\n",
    "    else:\n",
    "        print(i)    "
   ]
  },
  {
   "cell_type": "code",
   "execution_count": 60,
   "metadata": {},
   "outputs": [
    {
     "name": "stdout",
     "output_type": "stream",
     "text": [
      "1\n",
      "3\n",
      "6\n",
      "2\n",
      "9\n",
      "<class 'int'> <class 'int'>\n"
     ]
    }
   ],
   "source": [
    "list_n = [1, 3, 6, 2, 9]\n",
    "\n",
    "for i, item in enumerate(list_n):\n",
    "    print(item)    \n",
    "print(type(i), type(item))\n",
    "\n"
   ]
  },
  {
   "cell_type": "code",
   "execution_count": 63,
   "metadata": {},
   "outputs": [
    {
     "name": "stdout",
     "output_type": "stream",
     "text": [
      "J\n",
      "o\n",
      "h\n",
      "n\n",
      "\n",
      "J\n",
      "o\n",
      "h\n",
      "n\n"
     ]
    }
   ],
   "source": [
    "str_name = \"John\"\n",
    "\n",
    "for i in str_name:\n",
    "    print(i)\n",
    "\n",
    "print()\n",
    "\n",
    "for i, item in enumerate(str_name):\n",
    "    print(item)\n",
    "    \n",
    "str_name = None"
   ]
  },
  {
   "cell_type": "code",
   "execution_count": 64,
   "metadata": {},
   "outputs": [
    {
     "name": "stdout",
     "output_type": "stream",
     "text": [
      "Alarm!\n",
      "Alarm!\n",
      "Alarm!\n",
      "Alarm!\n",
      "Alarm!\n"
     ]
    }
   ],
   "source": [
    "for _ in range(1, 6):\n",
    "    print(\"Alarm!\")"
   ]
  },
  {
   "cell_type": "code",
   "execution_count": 67,
   "metadata": {},
   "outputs": [
    {
     "name": "stdout",
     "output_type": "stream",
     "text": [
      "Павел не программист is 27 years old\n",
      "Павел программист is 25 years old\n",
      "Кирилл is 28 years old\n",
      "Юрий is 16 years old\n"
     ]
    }
   ],
   "source": [
    "lst_tup_persons = [(\"Павел не программист\", 27), (\"Павел программист\", 25), (\"Кирилл\", 28), (\"Юрий\", 16)]\n",
    "\n",
    "for (name, age) in lst_tup_persons:\n",
    "    print(f'{name} is {age} years old')\n",
    "    \n",
    "lst_tup_persons = None"
   ]
  },
  {
   "cell_type": "code",
   "execution_count": 5,
   "metadata": {},
   "outputs": [
    {
     "name": "stdout",
     "output_type": "stream",
     "text": [
      "Павел_не_программист\n",
      "Павел_программист\n",
      "Кирилл\n",
      "Юрий\n",
      "\n",
      "('Павел_не_программист', 27)\n",
      "('Павел_программист', 25)\n",
      "('Кирилл', 28)\n",
      "('Юрий', 16)\n",
      "\n",
      "Павел_не_программист is at age of 27\n",
      "Павел_программист is at age of 25\n",
      "Кирилл is at age of 28\n",
      "Юрий is at age of 16\n",
      "\n",
      "27\n",
      "25\n",
      "28\n",
      "16\n",
      "\n",
      "Павел_не_программист\n",
      "Павел_программист\n",
      "Кирилл\n",
      "Юрий\n"
     ]
    }
   ],
   "source": [
    "dict_player = dict(Павел_не_программист = 27, Павел_программист = 25, Кирилл = 28, Юрий = 16)\n",
    "\n",
    "for item in dict_player:\n",
    "    print(item)\n",
    "\n",
    "print()\n",
    "    \n",
    "for item in dict_player.items():\n",
    "    print(item)\n",
    "\n",
    "print()\n",
    "    \n",
    "for key, value in dict_player.items():\n",
    "    print(f'{key} is at age of {value}')\n",
    "\n",
    "print()\n",
    "    \n",
    "for value in dict_player.values():\n",
    "    print(value)\n",
    "    \n",
    "print()\n",
    "    \n",
    "for key in dict_player.keys():\n",
    "    print(key)\n",
    "\n",
    "dict_player = None"
   ]
  },
  {
   "cell_type": "code",
   "execution_count": 10,
   "metadata": {},
   "outputs": [
    {
     "name": "stdout",
     "output_type": "stream",
     "text": [
      "[(2, -2), (-5, 5), (6, -6), (-2, 2)]\n"
     ]
    }
   ],
   "source": [
    "#find all pairs sum of wich equals zero\n",
    "list1 = [2, 4, -5, 6, 8, -2]\n",
    "list2 = [2, -6, 8, 3, 5, -2]\n",
    "pairs = []\n",
    "\n",
    "for x in list1:\n",
    "    for y in list2:\n",
    "        if not (x + y):\n",
    "            pairs.append((x, y))\n",
    "print(pairs)\n",
    "\n",
    "list1 = None\n",
    "list2 = None\n",
    "pairs = None"
   ]
  },
  {
   "cell_type": "code",
   "execution_count": null,
   "metadata": {},
   "outputs": [],
   "source": []
  }
 ],
 "metadata": {
  "kernelspec": {
   "display_name": "Python 3",
   "language": "python",
   "name": "python3"
  },
  "language_info": {
   "codemirror_mode": {
    "name": "ipython",
    "version": 3
   },
   "file_extension": ".py",
   "mimetype": "text/x-python",
   "name": "python",
   "nbconvert_exporter": "python",
   "pygments_lexer": "ipython3",
   "version": "3.7.4"
  }
 },
 "nbformat": 4,
 "nbformat_minor": 2
}
