{
 "cells": [
  {
   "cell_type": "code",
   "execution_count": 3,
   "metadata": {},
   "outputs": [
    {
     "name": "stdout",
     "output_type": "stream",
     "text": [
      "('Carlsen', 1990, 2842) <class 'list'> <class 'tuple'>\n"
     ]
    }
   ],
   "source": [
    "players = [(\"Carlsen\", 1990, 2842), (\"Caruana\", 1992, 2822), (\"Mamedyarov\", 1985, 2801)]\n",
    "print(players[0], type(players), type(players[0]))\n",
    "\n",
    "#players[0].name\n",
    "\n",
    "from collections import namedtuple"
   ]
  },
  {
   "cell_type": "code",
   "execution_count": 9,
   "metadata": {},
   "outputs": [
    {
     "name": "stdout",
     "output_type": "stream",
     "text": [
      "Player(name='Carlsen', age=1990, rating=2842) <class 'list'> <class '__main__.Player'>\n",
      "Carlsen\n"
     ]
    }
   ],
   "source": [
    "Player = namedtuple('Player', 'name age rating')\n",
    "players = [Player(\"Carlsen\", 1990, 2842), Player(\"Caruana\", 1992, 2822), Player(\"Mamedyarov\", 1985, 2801)]\n",
    "print(players[0], type(players), type(players[0]))\n",
    "print(players[0].name)"
   ]
  },
  {
   "cell_type": "code",
   "execution_count": null,
   "metadata": {},
   "outputs": [],
   "source": []
  }
 ],
 "metadata": {
  "kernelspec": {
   "display_name": "Python 3",
   "language": "python",
   "name": "python3"
  },
  "language_info": {
   "codemirror_mode": {
    "name": "ipython",
    "version": 3
   },
   "file_extension": ".py",
   "mimetype": "text/x-python",
   "name": "python",
   "nbconvert_exporter": "python",
   "pygments_lexer": "ipython3",
   "version": "3.7.4"
  }
 },
 "nbformat": 4,
 "nbformat_minor": 2
}
