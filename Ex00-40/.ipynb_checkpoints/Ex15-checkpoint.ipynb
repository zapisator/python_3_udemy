{
 "cells": [
  {
   "cell_type": "code",
   "execution_count": 15,
   "metadata": {},
   "outputs": [
    {
     "name": "stdout",
     "output_type": "stream",
     "text": [
      "\\a\n"
     ]
    }
   ],
   "source": [
    "'I\\'m Elias'\n",
    "#print(r\"\\\")\n",
    "#print(r\"a\\\")\n",
    "print(r\"\\a\")"
   ]
  },
  {
   "cell_type": "code",
   "execution_count": 28,
   "metadata": {},
   "outputs": [
    {
     "name": "stdout",
     "output_type": "stream",
     "text": [
      "hello, pal\n",
      "h\n",
      "10\n"
     ]
    }
   ],
   "source": [
    "hello = str('hello, pal')\n",
    "print(hello)\n",
    "print(hello[0])\n",
    "print(len(hello))"
   ]
  },
  {
   "cell_type": "code",
   "execution_count": 27,
   "metadata": {},
   "outputs": [
    {
     "name": "stdout",
     "output_type": "stream",
     "text": [
      "hello, pal\n",
      "h\n",
      "10\n"
     ]
    }
   ],
   "source": [
    "hello = 'hello, pal'\n",
    "print(hello)\n",
    "print(hello[0])\n",
    "print(len(hello))"
   ]
  },
  {
   "cell_type": "code",
   "execution_count": 29,
   "metadata": {},
   "outputs": [
    {
     "name": "stdout",
     "output_type": "stream",
     "text": [
      "hello, pal\n",
      "p\n",
      "10\n"
     ]
    }
   ],
   "source": [
    "hello = 'hello, pal'\n",
    "print(hello)\n",
    "print(hello[-3])\n",
    "print(len(hello))"
   ]
  },
  {
   "cell_type": "code",
   "execution_count": 36,
   "metadata": {},
   "outputs": [
    {
     "name": "stdout",
     "output_type": "stream",
     "text": [
      "lo, pal\n",
      "lo, p\n",
      "hlo a\n",
      "el,pl\n",
      "el,p\n"
     ]
    }
   ],
   "source": [
    "hello = 'hello, pal'\n",
    "print(hello[3:])\n",
    "print(hello[3:-2])\n",
    "print(hello[::2])\n",
    "print(hello[1::2])\n",
    "print(hello[1:-2:2])\n",
    "\n"
   ]
  },
  {
   "cell_type": "code",
   "execution_count": 37,
   "metadata": {},
   "outputs": [
    {
     "name": "stdout",
     "output_type": "stream",
     "text": [
      "My name is Yuriy.\n"
     ]
    }
   ],
   "source": [
    "print (\"My name is\" + \" \" + \"Yuriy.\")"
   ]
  },
  {
   "cell_type": "code",
   "execution_count": 46,
   "metadata": {},
   "outputs": [
    {
     "name": "stdout",
     "output_type": "stream",
     "text": [
      "hello, pal hlo a\n",
      "hello, pal hlo a\n",
      "hello, pal hlo a\n"
     ]
    }
   ],
   "source": [
    "hello = 'hello, pal'\n",
    "a = hello\n",
    "b = hello[::2]\n",
    "print(a + \" \" + b)\n",
    "\n",
    "print(\"%s %s\" %(a, b))\n",
    "print(\"{} {}\".format(a, b))"
   ]
  },
  {
   "cell_type": "code",
   "execution_count": 47,
   "metadata": {},
   "outputs": [
    {
     "data": {
      "text/plain": [
       "'aaaaaaa'"
      ]
     },
     "execution_count": 47,
     "metadata": {},
     "output_type": "execute_result"
    }
   ],
   "source": [
    "7 * 'a'"
   ]
  },
  {
   "cell_type": "code",
   "execution_count": 50,
   "metadata": {},
   "outputs": [
    {
     "name": "stdout",
     "output_type": "stream",
     "text": [
      "I'm a student and I'll become a \"strong\" programmer\n",
      "C:\\Users\\GoodStudent\n",
      "y\n",
      "nesgt\n"
     ]
    }
   ],
   "source": [
    "print(\"I'm a student and I'll become a \\\"strong\\\" programmer\") #I'm a student and I'll become a \"strong\" programmer\n",
    "print(r\"C:\\Users\\GoodStudent\") #C:\\Users\\GoodStudent\n",
    "\n",
    "x = \"My name is Agent Smith\"\n",
    "print(x[1]) #y\n",
    "print(x[3:-6:3]) #nesgt"
   ]
  },
  {
   "cell_type": "code",
   "execution_count": null,
   "metadata": {},
   "outputs": [],
   "source": []
  }
 ],
 "metadata": {
  "kernelspec": {
   "display_name": "Python 3",
   "language": "python",
   "name": "python3"
  },
  "language_info": {
   "codemirror_mode": {
    "name": "ipython",
    "version": 3
   },
   "file_extension": ".py",
   "mimetype": "text/x-python",
   "name": "python",
   "nbconvert_exporter": "python",
   "pygments_lexer": "ipython3",
   "version": "3.7.4"
  }
 },
 "nbformat": 4,
 "nbformat_minor": 2
}
