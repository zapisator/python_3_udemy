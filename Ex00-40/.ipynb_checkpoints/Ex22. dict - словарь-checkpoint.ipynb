{
 "cells": [
  {
   "cell_type": "code",
   "execution_count": 33,
   "metadata": {},
   "outputs": [
    {
     "name": "stdout",
     "output_type": "stream",
     "text": [
      "{'2': 123, '4': 143, '1': 234, '3': 245, '5': 134} <class 'dict'> len =  5\n",
      "{'A': 123, 'B': 143, 'C': 234, 'D': 245, 'E': 134} <class 'dict'>\n",
      "World`s top 1 hase rate of 123\n",
      "245\n",
      "{'2': 123, '4': 143, '1': 234, '3': 245, '5': 134, '6': 987} <class 'dict'>\n",
      "dict_keys(['2', '4', '1', '3', '5', '6']) <class 'dict_keys'>\n",
      "dict_values([123, 143, 234, 245, 134, 987]) <class 'dict_keys'>\n",
      "['2', '4', '1', '3', '5'] <class 'list'>\n",
      "['1', '2', '3', '4', '5', '6']\n",
      "True\n",
      "True\n",
      "{'2': 123, '4': 143, '1': 234, '3': 245, '5': 134} <class 'dict'>\n",
      "2 123\n",
      "4 143\n",
      "1 234\n",
      "3 245\n",
      "5 134\n",
      "6 987\n",
      "items type  <class 'dict_items'>\n",
      "{'2': 123, '4': 143, '3': 245, '5': 134, '6': 987} <class 'dict'>\n",
      "{'2': 123, '4': 143, '3': 245, '5': 134} <class 'dict'> len =  4\n",
      "{'2': 123, '4': 143, '3': 245, '5': 134, '786': None} <class 'dict'> len =  5\n"
     ]
    }
   ],
   "source": [
    "player =  {\n",
    "                \"2\" : 123,\n",
    "                \"4\" : 143,\n",
    "                \"1\" : 234,\n",
    "                \"3\" : 245,\n",
    "                \"5\" : 134\n",
    "          }\n",
    "\n",
    "player_d = dict(A=123, B = 143, C = 234, D = 245, E = 134)\n",
    "top1 = player[\"2\"]\n",
    "\n",
    "keys = player.keys()\n",
    "values = player.values()\n",
    "list_of_keys = list(keys)\n",
    "copy = player.copy()\n",
    "\n",
    "\n",
    "print(player, type(player), \"len = \", len(player))\n",
    "print(player_d, type(player_d))\n",
    "print(f\"World`s top 1 hase rate of {top1}\")\n",
    "\n",
    "print(player_d.get(\"D\"))\n",
    "player['6'] = 987\n",
    "print(player, type(player))\n",
    "\n",
    "print(keys, type(keys))\n",
    "print(values, type(keys))\n",
    "\n",
    "print(list_of_keys, type(list_of_keys))\n",
    "print(sorted(player.keys()))\n",
    "\n",
    "print('5' in player)\n",
    "print('8' not in player)\n",
    "\n",
    "print(copy, type(copy))\n",
    "\n",
    "for k, v in player.items():\n",
    "    print(k, v)\n",
    "    \n",
    "print(\"items type \", type(player.items()))\n",
    "\n",
    "player.pop('1')\n",
    "print(player, type(player))\n",
    "\n",
    "player.popitem()\n",
    "print(player, type(player), \"len = \", len(player))\n",
    "\n",
    "\n",
    "player.setdefault('786')\n",
    "print(player, type(player), \"len = \", len(player))\n"
   ]
  },
  {
   "cell_type": "code",
   "execution_count": null,
   "metadata": {},
   "outputs": [],
   "source": []
  }
 ],
 "metadata": {
  "kernelspec": {
   "display_name": "Python 3",
   "language": "python",
   "name": "python3"
  },
  "language_info": {
   "codemirror_mode": {
    "name": "ipython",
    "version": 3
   },
   "file_extension": ".py",
   "mimetype": "text/x-python",
   "name": "python",
   "nbconvert_exporter": "python",
   "pygments_lexer": "ipython3",
   "version": "3.7.4"
  }
 },
 "nbformat": 4,
 "nbformat_minor": 2
}
