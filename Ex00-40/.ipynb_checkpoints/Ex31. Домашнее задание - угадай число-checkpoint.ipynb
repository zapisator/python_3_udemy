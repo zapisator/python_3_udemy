{
 "cells": [
  {
   "cell_type": "code",
   "execution_count": 8,
   "metadata": {},
   "outputs": [
    {
     "name": "stdout",
     "output_type": "stream",
     "text": [
      "Угадай число от 1 до 50.\n",
      "Попыток осталось 6. Введите вашу догадку.\n",
      "1\n",
      "Ваше число меньше загаданного.\n",
      "Попыток осталось 5. Введите вашу догадку.\n",
      "2\n",
      "Ваше число меньше загаданного.\n",
      "Попыток осталось 4. Введите вашу догадку.\n",
      "3\n",
      "Ваше число меньше загаданного.\n",
      "Попыток осталось 3. Введите вашу догадку.\n",
      "4\n",
      "Ваше число меньше загаданного.\n",
      "Попыток осталось 2. Введите вашу догадку.\n",
      "5\n",
      "Ваше число меньше загаданного.\n",
      "Попыток осталось 1. Введите вашу догадку.\n",
      "5\n",
      "Ваше число меньше загаданного.\n",
      "Вы так и не угадали. Вы самое слабое звено.\n"
     ]
    }
   ],
   "source": [
    "import random\n",
    "\n",
    "nb = random.randint(1, 50)\n",
    "entered_nb = None\n",
    "attempts_left = 6\n",
    "print(\"Угадай число от 1 до 50.\")\n",
    "while attempts_left:\n",
    "    print(f\"Попыток осталось {attempts_left}. Введите вашу догадку.\")\n",
    "    entered_nb = int(input())\n",
    "    if entered_nb == nb:\n",
    "        print(f\"Вы угадали. Это число {nb}\")\n",
    "        break ;\n",
    "    elif entered_nb < nb:\n",
    "        print(f\"Ваше число меньше загаданного.\")\n",
    "    elif entered_nb > nb:\n",
    "        print(f\"Ваше число больше загаданного.\")\n",
    "    attempts_left -= 1\n",
    "else:\n",
    "    print(f\"Вы так и не угадали. Вы самое слабое звено. Прощайте.\")"
   ]
  },
  {
   "cell_type": "code",
   "execution_count": null,
   "metadata": {},
   "outputs": [],
   "source": []
  }
 ],
 "metadata": {
  "kernelspec": {
   "display_name": "Python 3",
   "language": "python",
   "name": "python3"
  }
 },
 "nbformat": 4,
 "nbformat_minor": 2
}
