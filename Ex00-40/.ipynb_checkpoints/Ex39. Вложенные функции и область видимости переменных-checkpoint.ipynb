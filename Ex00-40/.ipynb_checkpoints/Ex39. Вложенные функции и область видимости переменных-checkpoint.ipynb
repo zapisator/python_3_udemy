{
 "cells": [
  {
   "cell_type": "code",
   "execution_count": 6,
   "metadata": {},
   "outputs": [
    {
     "name": "stdout",
     "output_type": "stream",
     "text": [
      "Hello from the local scope.\n",
      "Hello from the enclosing scope.\n",
      "Hello from global scope.\n"
     ]
    }
   ],
   "source": [
    "#https://www.geeksforgeeks.org/scope-resolution-in-python-legb-rule/\n",
    "\n",
    "greeting = \"Hello from global scope.\"\n",
    "\n",
    "def greet():\n",
    "    greeting = \"Hello from the enclosing scope.\"\n",
    "    \n",
    "    def nested():\n",
    "        greeting = \"Hello from the local scope.\"\n",
    "        print(greeting)\n",
    "        \n",
    "    nested()\n",
    "    print(greeting)\n",
    "    \n",
    "greet()\n",
    "print(greeting)"
   ]
  },
  {
   "cell_type": "code",
   "execution_count": 4,
   "metadata": {},
   "outputs": [
    {
     "name": "stdout",
     "output_type": "stream",
     "text": [
      "Hello from the local scope.\n",
      "Hello from the enclosing scope.\n",
      "Hello from global scope.\n"
     ]
    }
   ],
   "source": [
    "greeting = \"Hello from global scope.\"\n",
    "\n",
    "def greet():\n",
    "    greeting = \"Hello from the enclosing scope.\"\n",
    "    \n",
    "    def nested():\n",
    "        greeting = \"Hello from the local scope.\"\n",
    "        print(greeting)\n",
    "        \n",
    "    nested()\n",
    "    print(greeting)\n",
    "    \n",
    "greet()\n",
    "print(greeting)"
   ]
  },
  {
   "cell_type": "code",
   "execution_count": 10,
   "metadata": {},
   "outputs": [
    {
     "name": "stdout",
     "output_type": "stream",
     "text": [
      "Greet in func1 test\n",
      "Greet in func2 Hello from the enclosing scope.\n",
      "Greet in func3 Hello from the local scope.\n",
      "Hello from the enclosing scope.\n",
      "Hello from global scope.\n"
     ]
    }
   ],
   "source": [
    "greeting = \"Hello from global scope.\"\n",
    "\n",
    "def greet(greeting):\n",
    "    print(f\"Greet in func1 {greeting}\")\n",
    "    \n",
    "    greeting = \"Hello from the enclosing scope.\"\n",
    "    print(f\"Greet in func2 {greeting}\")\n",
    "    \n",
    "    def nested():\n",
    "        greeting = \"Hello from the local scope.\"\n",
    "        print(f\"Greet in func3 {greeting}\")\n",
    "        \n",
    "    nested()\n",
    "    print(greeting)\n",
    "    \n",
    "greet(\"test\")\n",
    "print(greeting)"
   ]
  },
  {
   "cell_type": "code",
   "execution_count": 17,
   "metadata": {},
   "outputs": [
    {
     "name": "stdout",
     "output_type": "stream",
     "text": [
      "Greet in func1 Hello from global scope.\n",
      "Greet in func2 Hello from the enclosing scope.\n",
      "Greet in func3 Hello from the local scope.\n",
      "Hello from the enclosing scope.\n",
      "Hello from the enclosing scope.\n"
     ]
    }
   ],
   "source": [
    "greeting = \"Hello from global scope.\"\n",
    "\n",
    "def greet():\n",
    "    global greeting\n",
    "    print(f\"Greet in func1 {greeting}\")\n",
    "    \n",
    "    greeting = \"Hello from the enclosing scope.\"\n",
    "    print(f\"Greet in func2 {greeting}\")\n",
    "\n",
    "    def nested():\n",
    "        greeting = \"Hello from the local scope.\"\n",
    "        print(f\"Greet in func3 {greeting}\")\n",
    "        \n",
    "    nested()\n",
    "    print(greeting)\n",
    "    \n",
    "greet()\n",
    "print(greeting)"
   ]
  },
  {
   "cell_type": "code",
   "execution_count": null,
   "metadata": {},
   "outputs": [],
   "source": []
  }
 ],
 "metadata": {
  "kernelspec": {
   "display_name": "Python 3",
   "language": "python",
   "name": "python3"
  },
  "language_info": {
   "codemirror_mode": {
    "name": "ipython",
    "version": 3
   },
   "file_extension": ".py",
   "mimetype": "text/x-python",
   "name": "python",
   "nbconvert_exporter": "python",
   "pygments_lexer": "ipython3",
   "version": "3.7.4"
  }
 },
 "nbformat": 4,
 "nbformat_minor": 2
}
