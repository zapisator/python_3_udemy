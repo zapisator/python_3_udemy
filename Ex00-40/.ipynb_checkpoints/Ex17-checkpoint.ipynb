{
 "cells": [
  {
   "cell_type": "code",
   "execution_count": 4,
   "metadata": {},
   "outputs": [
    {
     "name": "stdout",
     "output_type": "stream",
     "text": [
      "My name is |30|, and I`m |Yuriy|\n",
      "My name is |Yuriy|, and I`m |30|\n"
     ]
    }
   ],
   "source": [
    "my_name = \"Yuriy\"\n",
    "age = 30\n",
    "print(\"My name is |{1}|, and I`m |{0}|\".format(my_name, age))\n",
    "print(\"My name is |{}|, and I`m |{}|\".format(my_name, age))"
   ]
  },
  {
   "cell_type": "code",
   "execution_count": 9,
   "metadata": {},
   "outputs": [
    {
     "name": "stdout",
     "output_type": "stream",
     "text": [
      "|2.72| |3.14159269|\n",
      "|  2.72| |3.14159269|\n"
     ]
    }
   ],
   "source": [
    "Pi = 3.14159269\n",
    "e = 2.71828\n",
    "print(\"|{r:1.2f}| |{}|\".format(Pi, r = e))\n",
    "print(\"|{r:6.2f}| |{}|\".format(Pi, r = e))"
   ]
  },
  {
   "cell_type": "code",
   "execution_count": 11,
   "metadata": {},
   "outputs": [
    {
     "name": "stdout",
     "output_type": "stream",
     "text": [
      "|2.72| |2.71828|\n",
      "|  3.14| |2.71828|\n"
     ]
    }
   ],
   "source": [
    "Pi = 3.14159269\n",
    "e = 2.71828\n",
    "print(f\"|{e:1.2f}| |{e}|\")\n",
    "print(f\"|{Pi:6.2f}| |{e}|\")"
   ]
  },
  {
   "cell_type": "code",
   "execution_count": 15,
   "metadata": {},
   "outputs": [
    {
     "name": "stdout",
     "output_type": "stream",
     "text": [
      "|2.72| |2.71828|\n",
      "|003.14| |2.71828|\n"
     ]
    }
   ],
   "source": [
    "Pi = 3.14159269\n",
    "e = 2.71828\n",
    "print(f\"|{e:01.2f}| |{e}|\")\n",
    "print(f\"|{Pi:06.2f}| |{e}|\")"
   ]
  },
  {
   "cell_type": "code",
   "execution_count": null,
   "metadata": {},
   "outputs": [],
   "source": []
  }
 ],
 "metadata": {
  "kernelspec": {
   "display_name": "Python 3",
   "language": "python",
   "name": "python3"
  },
  "language_info": {
   "codemirror_mode": {
    "name": "ipython",
    "version": 3
   },
   "file_extension": ".py",
   "mimetype": "text/x-python",
   "name": "python",
   "nbconvert_exporter": "python",
   "pygments_lexer": "ipython3",
   "version": "3.7.4"
  }
 },
 "nbformat": 4,
 "nbformat_minor": 2
}
