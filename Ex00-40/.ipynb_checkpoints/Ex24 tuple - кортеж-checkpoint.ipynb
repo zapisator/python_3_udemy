{
 "cells": [
  {
   "cell_type": "code",
   "execution_count": 7,
   "metadata": {},
   "outputs": [
    {
     "name": "stdout",
     "output_type": "stream",
     "text": [
      "('John', 'Silver', 22) <class 'tuple'> 3\n",
      "John\n",
      "22\n",
      "1\n",
      "0\n",
      "John\n"
     ]
    }
   ],
   "source": [
    "person = ('John', 'Silver', 22)\n",
    "print(person, type(person), len(person))\n",
    "print(person[0])\n",
    "print(person[-1])\n",
    "#person[0] = 'Bob'\n",
    "#print(person, type(person), len(person))\n",
    "print(person.count('John'))\n",
    "print(person.index(\"John\"))\n",
    "print(person[person.index(\"John\")])"
   ]
  },
  {
   "cell_type": "code",
   "execution_count": null,
   "metadata": {},
   "outputs": [],
   "source": []
  }
 ],
 "metadata": {
  "kernelspec": {
   "display_name": "Python 3",
   "language": "python",
   "name": "python3"
  },
  "language_info": {
   "codemirror_mode": {
    "name": "ipython",
    "version": 3
   },
   "file_extension": ".py",
   "mimetype": "text/x-python",
   "name": "python",
   "nbconvert_exporter": "python",
   "pygments_lexer": "ipython3",
   "version": "3.7.4"
  }
 },
 "nbformat": 4,
 "nbformat_minor": 2
}
