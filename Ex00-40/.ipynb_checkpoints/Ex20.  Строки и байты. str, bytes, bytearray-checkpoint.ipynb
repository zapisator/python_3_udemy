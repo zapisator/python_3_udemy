{
 "cells": [
  {
   "cell_type": "code",
   "execution_count": 8,
   "metadata": {},
   "outputs": [
    {
     "name": "stdout",
     "output_type": "stream",
     "text": [
      "9786\n",
      "☺\n",
      "☺\n",
      "9786\n"
     ]
    }
   ],
   "source": [
    "print(ord('☺'))\n",
    "print(chr(9786))\n",
    "print(chr(ord('☺')))\n",
    "print(ord(chr(9786)))"
   ]
  },
  {
   "cell_type": "code",
   "execution_count": 29,
   "metadata": {},
   "outputs": [
    {
     "name": "stdout",
     "output_type": "stream",
     "text": [
      "b'hello' \n",
      " <class 'bytes'> \n",
      " 5 \n",
      "\n",
      "\n",
      "b'hello' \n",
      " <class 'bytes'> \n",
      " 5 \n",
      "\n",
      "\n",
      "b'\\xff\\xfeh\\x00e\\x00l\\x00l\\x00o\\x00' \n",
      " <class 'bytes'> \n",
      " 12 \n",
      "\n",
      "\n"
     ]
    }
   ],
   "source": [
    "str = \"hello\"\n",
    "\n",
    "encode_ascii = str.encode(\"ascii\")\n",
    "encode_utf8 = str.encode(\"utf8\")\n",
    "encode_utf16 = str.encode(\"utf16\")\n",
    "\n",
    "print(encode_ascii, '\\n', type(encode_ascii), '\\n', len(encode_ascii),'\\n\\n')\n",
    "print(encode_utf8, '\\n', type(encode_utf8), '\\n', len(encode_utf8),'\\n\\n')\n",
    "print(encode_utf16, '\\n', type(encode_utf16), '\\n', len(encode_utf16),'\\n\\n')"
   ]
  },
  {
   "cell_type": "code",
   "execution_count": 33,
   "metadata": {},
   "outputs": [
    {
     "name": "stdout",
     "output_type": "stream",
     "text": [
      "b'Hello' \n",
      " <class 'bytes'>\n",
      "bytearray(b'Hello') \n",
      " <class 'bytearray'>\n",
      "72 \n",
      " <class 'int'>\n"
     ]
    }
   ],
   "source": [
    "bytes = b'Hello'\n",
    "b_arr = bytearray(b'Hello')\n",
    "\n",
    "print(bytes, '\\n', type(bytes))\n",
    "print(b_arr, '\\n', type(b_arr))\n",
    "print(b_arr[0], '\\n', type(b_arr[0]))\n",
    "\n"
   ]
  },
  {
   "cell_type": "code",
   "execution_count": null,
   "metadata": {},
   "outputs": [],
   "source": []
  }
 ],
 "metadata": {
  "kernelspec": {
   "display_name": "Python 3",
   "language": "python",
   "name": "python3"
  },
  "language_info": {
   "codemirror_mode": {
    "name": "ipython",
    "version": 3
   },
   "file_extension": ".py",
   "mimetype": "text/x-python",
   "name": "python",
   "nbconvert_exporter": "python",
   "pygments_lexer": "ipython3",
   "version": "3.7.4"
  }
 },
 "nbformat": 4,
 "nbformat_minor": 2
}
