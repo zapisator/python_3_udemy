{
 "cells": [
  {
   "cell_type": "code",
   "execution_count": 15,
   "metadata": {},
   "outputs": [
    {
     "name": "stdout",
     "output_type": "stream",
     "text": [
      "set() <class 'set'>\n",
      "{1, 2, 98, 4, 7}\n"
     ]
    }
   ],
   "source": [
    "my_set = set()\n",
    "\n",
    "print(my_set, type(my_set))\n",
    "my_set.add(1)\n",
    "my_set.add(2)\n",
    "my_set.add(4)\n",
    "my_set.add(7)\n",
    "my_set.add(98)\n",
    "print(my_set)\n",
    "\n",
    "my_set = None"
   ]
  },
  {
   "cell_type": "code",
   "execution_count": 16,
   "metadata": {},
   "outputs": [
    {
     "name": "stdout",
     "output_type": "stream",
     "text": [
      "[1, 2, 3, 4, 4, 1, 2, 1, 2, 1, 5] <class 'list'> 11\n",
      "{1, 2, 3, 4, 5} <class 'set'> 5\n",
      "True True False\n"
     ]
    }
   ],
   "source": [
    "my_list = [1, 2, 3, 4, 4, 1, 2, 1, 2, 1, 5]\n",
    "s = set(my_list)\n",
    "\n",
    "print(my_list, type(my_list), len(my_list))\n",
    "print(s, type(s), len(s))\n",
    "\n",
    "print(1 in s, 5 in s, 6 in s)\n",
    "\n",
    "my_list = None\n",
    "s = None"
   ]
  },
  {
   "cell_type": "code",
   "execution_count": 32,
   "metadata": {},
   "outputs": [
    {
     "name": "stdout",
     "output_type": "stream",
     "text": [
      "set1.issubset(set2):  True\n",
      "set2.issubset(set1):  False\n",
      "\n",
      "----------\n",
      "\n",
      "set1.issuperset(set2):  False\n",
      "set2.issuperset(set1):  True\n",
      "\n",
      "----------\n",
      "\n",
      "set1.isdisjoint(set3):  True\n",
      "set2.isdisjoint(set3):  False\n",
      "\n",
      "----------\n",
      "\n",
      "set1:  {1, 2, 3, 4} \n",
      " set2:  {1, 2, 3, 4, 5} \n",
      " set3:  {8, 5, 6, 7} \n",
      " set4:  {1, 2, 3, 4, 5, 6, 7, 8}\n",
      "\n",
      "----------\n",
      "\n",
      "set1.intersection(set2):  {1, 2, 3, 4}\n",
      "set1.intersection(set3):  set()\n",
      "set2.intersection(set3):  {5}\n",
      "\n",
      "----------\n",
      "\n",
      "set1.difference(set2):  set()\n",
      "set1.difference(set3):  {1, 2, 3, 4}\n",
      "set2.difference(set3):  {1, 2, 3, 4}\n",
      "\n",
      "----------\n",
      "\n",
      "set1.symmetric_difference(set2):  {5}\n",
      "set1.symmetric_difference(set3):  {1, 2, 3, 4, 5, 6, 7, 8}\n",
      "set2.symmetric_difference(set3):  {1, 2, 3, 4, 6, 7, 8}\n",
      "\n",
      "----------\n",
      "\n",
      "set1:  {1, 2, 3, 4, 5} \n",
      " set2:  {1, 2, 3, 4, 5} \n",
      " set3:  {8, 5, 6, 7} \n",
      " set4:  {1, 2, 3, 4, 5, 6, 7, 8}\n"
     ]
    }
   ],
   "source": [
    "set1 = {1, 2, 3, 4}\n",
    "set2 = {1, 2, 3, 4, 5}\n",
    "set3 = {5, 6, 7, 8}\n",
    "set4 = None\n",
    "\n",
    "set4 = set1.union(set3)\n",
    "print(\"set1.issubset(set2): \", set1.issubset(set2))\n",
    "print(\"set2.issubset(set1): \", set2.issubset(set1))\n",
    "print(\"\\n----------\\n\")\n",
    "print(\"set1.issuperset(set2): \", set1.issuperset(set2))\n",
    "print(\"set2.issuperset(set1): \", set2.issuperset(set1))\n",
    "print(\"\\n----------\\n\")\n",
    "print(\"set1.isdisjoint(set3): \", set1.isdisjoint(set3))\n",
    "print(\"set2.isdisjoint(set3): \", set2.isdisjoint(set3))\n",
    "print(\"\\n----------\\n\")\n",
    "print(\"set1: \", set1, \"\\n\", \"set2: \", set2, \"\\n\", \"set3: \", set3, \"\\n\", \"set4: \", set4)\n",
    "print(\"\\n----------\\n\")\n",
    "print(\"set1.intersection(set2): \", set1.intersection(set2))\n",
    "print(\"set1.intersection(set3): \", set1.intersection(set3))\n",
    "print(\"set2.intersection(set3): \", set2.intersection(set3))\n",
    "print(\"\\n----------\\n\")\n",
    "print(\"set1.difference(set2): \", set1.difference(set2))\n",
    "print(\"set1.difference(set3): \", set1.difference(set3))\n",
    "print(\"set2.difference(set3): \", set2.difference(set3))\n",
    "print(\"\\n----------\\n\")\n",
    "print(\"set1.symmetric_difference(set2): \", set1.symmetric_difference(set2))\n",
    "print(\"set1.symmetric_difference(set3): \", set1.symmetric_difference(set3))\n",
    "print(\"set2.symmetric_difference(set3): \", set2.symmetric_difference(set3))\n",
    "print(\"\\n----------\\n\")\n",
    "set1.update(set2)\n",
    "print(\"set1: \", set1, \"\\n\", \"set2: \", set2, \"\\n\", \"set3: \", set3, \"\\n\", \"set4: \", set4)\n",
    "\n",
    "set1 = None\n",
    "set2 = None\n",
    "set3 = None\n",
    "set4 = None"
   ]
  },
  {
   "cell_type": "code",
   "execution_count": 34,
   "metadata": {},
   "outputs": [
    {
     "name": "stdout",
     "output_type": "stream",
     "text": [
      "{'b', 'a'} <class 'set'>\n"
     ]
    }
   ],
   "source": [
    "set1 = {'a', 'b'}\n",
    "print(set1, type(set1))"
   ]
  },
  {
   "cell_type": "code",
   "execution_count": null,
   "metadata": {},
   "outputs": [],
   "source": []
  }
 ],
 "metadata": {
  "kernelspec": {
   "display_name": "Python 3",
   "language": "python",
   "name": "python3"
  },
  "language_info": {
   "codemirror_mode": {
    "name": "ipython",
    "version": 3
   },
   "file_extension": ".py",
   "mimetype": "text/x-python",
   "name": "python",
   "nbconvert_exporter": "python",
   "pygments_lexer": "ipython3",
   "version": "3.7.4"
  }
 },
 "nbformat": 4,
 "nbformat_minor": 2
}
