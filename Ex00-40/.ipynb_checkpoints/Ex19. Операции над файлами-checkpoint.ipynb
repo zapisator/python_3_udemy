{
 "cells": [
  {
   "cell_type": "code",
   "execution_count": 1,
   "metadata": {},
   "outputs": [
    {
     "data": {
      "text/plain": [
       "'/home/yurezz/JupiterNotes_Python'"
      ]
     },
     "execution_count": 1,
     "metadata": {},
     "output_type": "execute_result"
    }
   ],
   "source": [
    "pwd"
   ]
  },
  {
   "cell_type": "code",
   "execution_count": 2,
   "metadata": {},
   "outputs": [
    {
     "name": "stdout",
     "output_type": "stream",
     "text": [
      "/home/yurezz/JupiterNotes_Python\n"
     ]
    }
   ],
   "source": [
    "import os\n",
    "print(os.getcwd())"
   ]
  },
  {
   "cell_type": "code",
   "execution_count": 3,
   "metadata": {},
   "outputs": [
    {
     "name": "stdout",
     "output_type": "stream",
     "text": [
      "<_io.TextIOWrapper name='python_test.txt' mode='w+' encoding='UTF-8'> \n",
      " <class '_io.TextIOWrapper'>\n"
     ]
    }
   ],
   "source": [
    "file = open(\"python_test.txt\", \"w+\")\n",
    "print(file, \"\\n\",type(file))"
   ]
  },
  {
   "cell_type": "code",
   "execution_count": 4,
   "metadata": {},
   "outputs": [
    {
     "name": "stdout",
     "output_type": "stream",
     "text": [
      "<_io.TextIOWrapper name='python_test.txt' mode='a' encoding='UTF-8'>\n",
      "Poshyol\n",
      " \n",
      " <class 'str'>\n",
      "0 \n",
      " <class 'int'>\n",
      "True\n"
     ]
    }
   ],
   "source": [
    "file = open(\"python_test.txt\", 'a')\n",
    "print(file)\n",
    "file.write(\"Poshyol\\n\")\n",
    "file = open(\"python_test.txt\", 'r')\n",
    "if file.mode == 'r':\n",
    "    content = file.read()\n",
    "    print(content, \"\\n\", type(content))\n",
    "    content = file.seek(0)\n",
    "    print(content, \"\\n\", type(content))\n",
    "file.close()\n",
    "print(file.closed)"
   ]
  },
  {
   "cell_type": "code",
   "execution_count": 5,
   "metadata": {},
   "outputs": [
    {
     "name": "stdout",
     "output_type": "stream",
     "text": [
      "Poshyol\n",
      " \n",
      " <class 'str'>\n",
      "0 \n",
      " <class 'int'>\n",
      "No content\n",
      "['Poshyol\\n'] \n",
      " <class 'list'> \n",
      " 1\n"
     ]
    }
   ],
   "source": [
    "file = open(\"python_test.txt\")\n",
    "content = file.read()\n",
    "print(content, \"\\n\", type(content))\n",
    "content = file.seek(0)\n",
    "print(content, \"\\n\", type(content))\n",
    "if not content:\n",
    "    print(\"No content\")\n",
    "else:\n",
    "    print(\"Is content\")\n",
    "file.close\n",
    "file = open(\"python_test.txt\")\n",
    "lines = file.readlines()\n",
    "print(lines, \"\\n\", type(lines), '\\n', len(lines))\n",
    "file.close()"
   ]
  },
  {
   "cell_type": "code",
   "execution_count": 6,
   "metadata": {},
   "outputs": [
    {
     "name": "stdout",
     "output_type": "stream",
     "text": [
      "True \n",
      " Poshyol\n",
      "\n"
     ]
    }
   ],
   "source": [
    "with open(\"python_test.txt\") as file_2:\n",
    "    data = file_2.read()\n",
    "print(file_2.closed, '\\n', data)"
   ]
  },
  {
   "cell_type": "code",
   "execution_count": 7,
   "metadata": {},
   "outputs": [],
   "source": [
    "with open(\"python_test.txt\", 'r') as file_11:\n",
    "    data_11 = file_11.read()\n"
   ]
  },
  {
   "cell_type": "code",
   "execution_count": 8,
   "metadata": {},
   "outputs": [
    {
     "ename": "UnsupportedOperation",
     "evalue": "not readable",
     "output_type": "error",
     "traceback": [
      "\u001b[0;31m---------------------------------------------------------------------------\u001b[0m",
      "\u001b[0;31mUnsupportedOperation\u001b[0m                      Traceback (most recent call last)",
      "\u001b[0;32m<ipython-input-8-0154ccca444f>\u001b[0m in \u001b[0;36m<module>\u001b[0;34m\u001b[0m\n\u001b[1;32m      1\u001b[0m \u001b[0;32mwith\u001b[0m \u001b[0mopen\u001b[0m\u001b[0;34m(\u001b[0m\u001b[0;34m\"python_test.txt\"\u001b[0m\u001b[0;34m,\u001b[0m \u001b[0;34m'w'\u001b[0m\u001b[0;34m)\u001b[0m \u001b[0;32mas\u001b[0m \u001b[0mfile_12\u001b[0m\u001b[0;34m:\u001b[0m\u001b[0;34m\u001b[0m\u001b[0;34m\u001b[0m\u001b[0m\n\u001b[0;32m----> 2\u001b[0;31m     \u001b[0mdata_12\u001b[0m \u001b[0;34m=\u001b[0m \u001b[0mfile_12\u001b[0m\u001b[0;34m.\u001b[0m\u001b[0mread\u001b[0m\u001b[0;34m(\u001b[0m\u001b[0;34m)\u001b[0m\u001b[0;34m\u001b[0m\u001b[0;34m\u001b[0m\u001b[0m\n\u001b[0m",
      "\u001b[0;31mUnsupportedOperation\u001b[0m: not readable"
     ]
    }
   ],
   "source": [
    "with open(\"python_test.txt\", 'w') as file_12:\n",
    "    data_12 = file_12.read()"
   ]
  },
  {
   "cell_type": "code",
   "execution_count": null,
   "metadata": {},
   "outputs": [],
   "source": [
    "with open(\"python_test.txt\", 'a') as file_13:\n",
    "    data_13 = file_13.read()"
   ]
  },
  {
   "cell_type": "code",
   "execution_count": null,
   "metadata": {},
   "outputs": [],
   "source": [
    "with open(\"python_test.txt\", 'r+') as file_14:\n",
    "    data_14 = file_14.read()"
   ]
  },
  {
   "cell_type": "code",
   "execution_count": null,
   "metadata": {},
   "outputs": [],
   "source": [
    "with open(\"python_test.txt\", 'w+') as file_15:\n",
    "    data_15 = file_15.read()"
   ]
  },
  {
   "cell_type": "code",
   "execution_count": null,
   "metadata": {},
   "outputs": [],
   "source": [
    "with open(\"python_.txt\", 'r') as file_11:\n",
    "    data_11 = file_11.read()"
   ]
  },
  {
   "cell_type": "code",
   "execution_count": null,
   "metadata": {},
   "outputs": [],
   "source": [
    "with open(\"python_.txt\", 'w') as file_12:\n",
    "    data_12 = file_12.read()"
   ]
  },
  {
   "cell_type": "code",
   "execution_count": null,
   "metadata": {},
   "outputs": [],
   "source": [
    "with open(\"python_.txt\", 'r+') as file_14:\n",
    "    data_14 = file_14.read()"
   ]
  },
  {
   "cell_type": "code",
   "execution_count": null,
   "metadata": {},
   "outputs": [],
   "source": [
    "with open(\"python_.txt\", 'a') as file_13:\n",
    "    data_13 = file_13.read()"
   ]
  },
  {
   "cell_type": "code",
   "execution_count": null,
   "metadata": {},
   "outputs": [],
   "source": [
    "with open(\"python_.txt\", 'w+') as file_15:\n",
    "    data_15 = file_15.read()"
   ]
  },
  {
   "cell_type": "code",
   "execution_count": 9,
   "metadata": {},
   "outputs": [
    {
     "ename": "SyntaxError",
     "evalue": "unexpected EOF while parsing (<ipython-input-9-584a664be0b9>, line 1)",
     "output_type": "error",
     "traceback": [
      "\u001b[0;36m  File \u001b[0;32m\"<ipython-input-9-584a664be0b9>\"\u001b[0;36m, line \u001b[0;32m1\u001b[0m\n\u001b[0;31m    with open(\"python_.txt\"\u001b[0m\n\u001b[0m                           ^\u001b[0m\n\u001b[0;31mSyntaxError\u001b[0m\u001b[0;31m:\u001b[0m unexpected EOF while parsing\n"
     ]
    }
   ],
   "source": [
    "with open(\"python_.txt\""
   ]
  },
  {
   "cell_type": "code",
   "execution_count": 23,
   "metadata": {},
   "outputs": [
    {
     "name": "stdout",
     "output_type": "stream",
     "text": [
      "r:\t Lososni tunca\n",
      "seek:\t Lososni tunca\n",
      "ulitka\n"
     ]
    }
   ],
   "source": [
    "with open(\"python_test.txt\", 'w+') as file_12:\n",
    "    file_12.write(\"Lososni tunca\")\n",
    "with open(\"python_test.txt\", 'r') as file_12:\n",
    "    data = file_12.read()\n",
    "    print(\"r:\\t\", data)\n",
    "with open(\"python_test.txt\", 'r+') as file_12:\n",
    "    file_12.seek(0, 2)\n",
    "    file_12.write(\"\\nulitka\")\n",
    "    file_12.seek(0)\n",
    "    data = file_12.read()\n",
    "    print(\"seek:\\t\", data)"
   ]
  },
  {
   "cell_type": "code",
   "execution_count": null,
   "metadata": {},
   "outputs": [],
   "source": []
  }
 ],
 "metadata": {
  "kernelspec": {
   "display_name": "Python 3",
   "language": "python",
   "name": "python3"
  },
  "language_info": {
   "codemirror_mode": {
    "name": "ipython",
    "version": 3
   },
   "file_extension": ".py",
   "mimetype": "text/x-python",
   "name": "python",
   "nbconvert_exporter": "python",
   "pygments_lexer": "ipython3",
   "version": "3.7.4"
  }
 },
 "nbformat": 4,
 "nbformat_minor": 2
}
