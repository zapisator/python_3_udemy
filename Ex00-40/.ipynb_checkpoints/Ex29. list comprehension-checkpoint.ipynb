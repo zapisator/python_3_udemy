{
 "cells": [
  {
   "cell_type": "code",
   "execution_count": 11,
   "metadata": {},
   "outputs": [
    {
     "name": "stdout",
     "output_type": "stream",
     "text": [
      "['H', 'e', 'l', 'l', 'o']\n",
      "['H', 'e', 'l', 'l', 'o', ',', ' ', 'W', 'o', 'r', 'l', 'd']\n",
      "['H', 'e', 'l', 'l', 'o', ',', ' ', 'W', 'o', 'r', 'l', 'd']\n",
      "['И', 'р', 'а', ',', ' ', 'у', 'ч', 'и', ' ', 'п', 'и', 'т', 'о', 'н', '!']\n"
     ]
    }
   ],
   "source": [
    "greetings = \"Hello, World\"\n",
    "chars = []\n",
    "\n",
    "for l in greetings:\n",
    "    if l == ',':\n",
    "        break\n",
    "    chars.append(l)\n",
    "print(chars)\n",
    "\n",
    "chars = []\n",
    "\n",
    "for l in greetings:\n",
    "    chars.append(l)\n",
    "print(chars)\n",
    "\n",
    "chars = []\n",
    "\n",
    "chars = [l for l in greetings]\n",
    "print(chars)\n",
    "\n",
    "chars = []\n",
    "\n",
    "chars = [l for l in \"Ира, учи питон!\"]\n",
    "print(chars)\n",
    "\n",
    "chars = None"
   ]
  },
  {
   "cell_type": "code",
   "execution_count": 16,
   "metadata": {},
   "outputs": [
    {
     "name": "stdout",
     "output_type": "stream",
     "text": [
      "[1, 4, 9, 16, 25, 36, 49, 64, 81, 100]\n"
     ]
    }
   ],
   "source": [
    "nbr = [n ** 2 for n in range(1, 11)]\n",
    "\n",
    "print(nbr)\n",
    "\n",
    "nbr = None"
   ]
  },
  {
   "cell_type": "code",
   "execution_count": 17,
   "metadata": {},
   "outputs": [
    {
     "name": "stdout",
     "output_type": "stream",
     "text": [
      "[1, 9, 25, 49, 81]\n"
     ]
    }
   ],
   "source": [
    "nbr = [n ** 2 for n in range(1, 11) if n % 2 != 0]\n",
    "\n",
    "print(nbr)\n",
    "\n",
    "nbr = None"
   ]
  },
  {
   "cell_type": "code",
   "execution_count": 24,
   "metadata": {},
   "outputs": [
    {
     "name": "stdout",
     "output_type": "stream",
     "text": [
      "[0.39, 1.97, 32.68, 7.87, 333.86, 38.58, 8.27]\n"
     ]
    }
   ],
   "source": [
    "len_cm = [1, 5, 83, 20, 848, 98, 21]\n",
    "len_inch = [round(l / 2.54, 2) for l in len_cm]\n",
    "\n",
    "print(len_inch)\n",
    "\n",
    "len_cm = None\n",
    "len_inch = None"
   ]
  },
  {
   "cell_type": "code",
   "execution_count": 26,
   "metadata": {},
   "outputs": [
    {
     "name": "stdout",
     "output_type": "stream",
     "text": [
      "['MM', 'GM', 'MM', 'GM', 'MM', 'GM']\n"
     ]
    }
   ],
   "source": [
    "ratings = [2485, 2580, 2480, 2600, 2482, 2520]\n",
    "titles = [\"GM\" if x >= 2500 else \"MM\" for x in ratings]\n",
    "\n",
    "print(titles)\n",
    "\n",
    "ratings = None\n",
    "titles = None"
   ]
  },
  {
   "cell_type": "code",
   "execution_count": 33,
   "metadata": {},
   "outputs": [
    {
     "name": "stdout",
     "output_type": "stream",
     "text": [
      "[(2, -2), (-5, 5), (6, -6), (-2, 2)]\n",
      "[None, None, None, None, None, (2, -2), None, None, None, None, None, None, None, None, None, None, (-5, 5), None, None, (6, -6), None, None, None, None, None, None, None, None, None, None, (-2, 2), None, None, None, None, None]\n"
     ]
    }
   ],
   "source": [
    "list1 = [2, 4, -5, 6, 8, -2]\n",
    "list2 = [2, -6, 8, 3, 5, -2]\n",
    "pairs = [(x, y) for x in list1 for y in list2 if not (x + y)]\n",
    "\n",
    "print(pairs)\n",
    "pairs = None\n",
    "pairs = [(x, y) if not (x + y) else None for x in list1 for y in list2]\n",
    "print(pairs)\n",
    "\n",
    "list1 = None\n",
    "list2 = None\n",
    "pairs = None"
   ]
  },
  {
   "cell_type": "code",
   "execution_count": null,
   "metadata": {},
   "outputs": [],
   "source": []
  }
 ],
 "metadata": {
  "kernelspec": {
   "display_name": "Python 3",
   "language": "python",
   "name": "python3"
  },
  "language_info": {
   "codemirror_mode": {
    "name": "ipython",
    "version": 3
   },
   "file_extension": ".py",
   "mimetype": "text/x-python",
   "name": "python",
   "nbconvert_exporter": "python",
   "pygments_lexer": "ipython3",
   "version": "3.7.4"
  }
 },
 "nbformat": 4,
 "nbformat_minor": 2
}
