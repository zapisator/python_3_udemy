{
 "cells": [
  {
   "cell_type": "code",
   "execution_count": 29,
   "metadata": {},
   "outputs": [
    {
     "name": "stdout",
     "output_type": "stream",
     "text": [
      "\n",
      "\r",
      " [1, 2, 3, 4, 5] 5 \n",
      "\r",
      " ['abc', 1, 2.0, [1, 2, 3, 4, 5]] 4\n",
      "[1, 4]\n",
      "[1, 2, 3, 4, 5, 'abc', 1, 2.0, [1, 2, 3, 4, 5]]\n",
      "3\n",
      "[1, 2, 3, 4, 5, 'abc']\n",
      "\n",
      "\r",
      " None \n",
      "\r",
      " None\n"
     ]
    }
   ],
   "source": [
    "int_list = [1, 2, 3, 4, 5]\n",
    "mix_list = [\"abc\", 1, 2.0, int_list]\n",
    "print(\"\\n\\r\", int_list, len(int_list), \"\\n\\r\",mix_list, len(mix_list))\n",
    "print(int_list[::3])\n",
    "combined = int_list + mix_list\n",
    "print(combined)\n",
    "print(int_list[1] + mix_list[1])\n",
    "int_list.append(mix_list[0])\n",
    "print(int_list)\n",
    "int_list = None\n",
    "mix_list = None\n",
    "\n",
    "print(\"\\n\\r\", int_list, \"\\n\\r\",mix_list)\n"
   ]
  },
  {
   "cell_type": "code",
   "execution_count": 34,
   "metadata": {},
   "outputs": [
    {
     "name": "stdout",
     "output_type": "stream",
     "text": [
      "5 \n",
      " [1, 2, 3, 4]\n",
      "3 \n",
      " [1, 2, 4]\n",
      "[1, 2, 4]\n"
     ]
    }
   ],
   "source": [
    "int_list = [1, 2, 3, 4, 5]\n",
    "mix_list = [\"abc\", 1, 2.0, int_list]\n",
    "node_int = int_list.pop()\n",
    "print(node_int, \"\\n\", int_list)\n",
    "node_int = int_list.pop(2)\n",
    "print(node_int, \"\\n\", int_list)\n",
    "int_list.sort()\n",
    "print(int_list)\n",
    "int_list = None\n",
    "mix_list = None"
   ]
  },
  {
   "cell_type": "code",
   "execution_count": 35,
   "metadata": {},
   "outputs": [
    {
     "name": "stdout",
     "output_type": "stream",
     "text": [
      "['aa', 'ab', 'ac']\n"
     ]
    }
   ],
   "source": [
    "letters = ['ac', 'ab', 'aa']\n",
    "letters.sort()\n",
    "print(letters)"
   ]
  },
  {
   "cell_type": "code",
   "execution_count": 49,
   "metadata": {},
   "outputs": [
    {
     "name": "stdout",
     "output_type": "stream",
     "text": [
      "['aca', 'abaa', 'aaaaaa', 'd', 'abaa', 'abaa', 'abaa']\n",
      "['d', 'aca', 'abaa', 'abaa', 'abaa', 'abaa', 'aaaaaa']\n",
      "['aca', 'abaa', 'aaaaaa', 'd']\n",
      "['d', 'aca', 'abaa', 'aaaaaa']\n",
      "['d', '22', 'aca', 'abaa', 'aaaaaa']\n",
      "1\n",
      "1\n",
      "2\n"
     ]
    }
   ],
   "source": [
    "letters = ['aca', 'abaa', 'aaaaaa', 'd', 'abaa', 'abaa', 'abaa']\n",
    "numbers = [1, 3, 43, 4, 5, 2, 1, 2, 4, 7, 54, 32]\n",
    "\n",
    "print(letters)\n",
    "letters.sort(key = len)\n",
    "print(letters)\n",
    "letters = ['aca', 'abaa', 'aaaaaa', 'd']\n",
    "print(letters)\n",
    "letters.sort(reverse = True)\n",
    "print(letters)\n",
    "letters.insert(1, \"22\")\n",
    "print(letters)\n",
    "print(letters.index('22'))\n",
    "print(letters.count('abaa'))\n",
    "print(numbers.count(1))\n",
    "\n",
    "letters = None\n",
    "numbers = None"
   ]
  },
  {
   "cell_type": "code",
   "execution_count": 55,
   "metadata": {},
   "outputs": [
    {
     "name": "stdout",
     "output_type": "stream",
     "text": [
      "[1, 3, 43, 4, 5, 2, 1, 2, 4, 7, 54, 32]\n",
      "[1, 3, 43, 4, 5, 2, 1, 2, 4, 7, 54, 32]\n",
      "[1, 3, 43, 4, 5, 2, 1, 2, 4, 7, 54, 32]\n",
      "[1, 3, 43, 4, 5, 2, 1, 2, 4, 7, 54]\n",
      "[]\n",
      "[1, 3, 43, 4, 5, 2, 1, 2, 4, 7, 54]\n"
     ]
    }
   ],
   "source": [
    "numbers = [1, 3, 43, 4, 5, 2, 1, 2, 4, 7, 54, 32]\n",
    "copy = numbers.copy()\n",
    "\n",
    "print(numbers)\n",
    "print(copy)\n",
    "copy.pop()\n",
    "print(numbers)\n",
    "print(copy)\n",
    "\n",
    "numbers.clear()\n",
    "print(numbers)\n",
    "print(copy)\n",
    "\n",
    "numbers = None\n",
    "copy = None"
   ]
  },
  {
   "cell_type": "code",
   "execution_count": 54,
   "metadata": {},
   "outputs": [
    {
     "name": "stdout",
     "output_type": "stream",
     "text": [
      "[1, 3, 43, 4, 5, 2, 1, 2, 4, 7, 54, 32]\n",
      "[1, 3, 43, 4, 5, 2, 1, 2, 4, 7, 54, 32]\n",
      "[1, 3, 43, 4, 5, 2, 1, 2, 4, 7, 54]\n",
      "[1, 3, 43, 4, 5, 2, 1, 2, 4, 7, 54]\n",
      "[]\n",
      "[]\n"
     ]
    }
   ],
   "source": [
    "numbers = [1, 3, 43, 4, 5, 2, 1, 2, 4, 7, 54, 32]\n",
    "copy = numbers\n",
    "\n",
    "print(numbers)\n",
    "print(copy)\n",
    "copy.pop()\n",
    "print(numbers)\n",
    "print(copy)\n",
    "\n",
    "numbers.clear()\n",
    "print(numbers)\n",
    "print(copy)\n",
    "\n",
    "numbers = None\n",
    "copy = None"
   ]
  },
  {
   "cell_type": "code",
   "execution_count": null,
   "metadata": {},
   "outputs": [],
   "source": []
  }
 ],
 "metadata": {
  "kernelspec": {
   "display_name": "Python 3",
   "language": "python",
   "name": "python3"
  },
  "language_info": {
   "codemirror_mode": {
    "name": "ipython",
    "version": 3
   },
   "file_extension": ".py",
   "mimetype": "text/x-python",
   "name": "python",
   "nbconvert_exporter": "python",
   "pygments_lexer": "ipython3",
   "version": "3.7.4"
  }
 },
 "nbformat": 4,
 "nbformat_minor": 2
}
