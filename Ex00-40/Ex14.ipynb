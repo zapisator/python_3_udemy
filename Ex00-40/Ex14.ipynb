{
 "cells": [
  {
   "cell_type": "code",
   "execution_count": 26,
   "metadata": {},
   "outputs": [
    {
     "name": "stdout",
     "output_type": "stream",
     "text": [
      "type of \t___a___ \tis: \t | True |\n",
      "__a__`s \tvalue is \t\t | True |\n",
      "\n",
      "\n",
      "======================\n",
      "\n",
      "\n",
      "type of \t___a___ \tis: \t | None |\n",
      "__a__`s \tvalue is \t\t | None |\n",
      "\n",
      "\n",
      "____________________\n",
      " False\n",
      "\n",
      "\n",
      "======================\n",
      "\n",
      "\n"
     ]
    },
    {
     "ename": "TypeError",
     "evalue": "unsupported operand type(s) for +=: 'NoneType' and 'int'",
     "output_type": "error",
     "traceback": [
      "\u001b[0;31m---------------------------------------------------------------------------\u001b[0m",
      "\u001b[0;31mTypeError\u001b[0m                                 Traceback (most recent call last)",
      "\u001b[0;32m<ipython-input-26-0abe92108e70>\u001b[0m in \u001b[0;36m<module>\u001b[0;34m\u001b[0m\n\u001b[1;32m     15\u001b[0m \u001b[0mprint\u001b[0m\u001b[0;34m(\u001b[0m\u001b[0;34m\"\\n\\n======================\\n\\n\"\u001b[0m\u001b[0;34m)\u001b[0m\u001b[0;34m\u001b[0m\u001b[0;34m\u001b[0m\u001b[0m\n\u001b[1;32m     16\u001b[0m \u001b[0;34m\u001b[0m\u001b[0m\n\u001b[0;32m---> 17\u001b[0;31m \u001b[0ma\u001b[0m \u001b[0;34m+=\u001b[0m \u001b[0;36m1\u001b[0m\u001b[0;34m\u001b[0m\u001b[0;34m\u001b[0m\u001b[0m\n\u001b[0m\u001b[1;32m     18\u001b[0m \u001b[0;34m\u001b[0m\u001b[0m\n\u001b[1;32m     19\u001b[0m \u001b[0ma\u001b[0m\u001b[0;34m\u001b[0m\u001b[0;34m\u001b[0m\u001b[0m\n",
      "\u001b[0;31mTypeError\u001b[0m: unsupported operand type(s) for +=: 'NoneType' and 'int'"
     ]
    }
   ],
   "source": [
    "a = True\n",
    "b = type(a)\n",
    "print(\"type of \\t___a___ \\tis: \\t\", \"|\", a, \"|\")\n",
    "print(\"__a__`s \\tvalue is \\t\\t\", \"|\", a, \"|\")\n",
    "\n",
    "print(\"\\n\\n======================\\n\\n\")\n",
    "\n",
    "a = None\n",
    "print(\"type of \\t___a___ \\tis: \\t\", \"|\", a, \"|\")\n",
    "print(\"__a__`s \\tvalue is \\t\\t\", \"|\", a, \"|\")\n",
    "\n",
    "c = a is b\n",
    "print (\"\\n\\n____________________\\n\", c)\n",
    "\n",
    "print(\"\\n\\n======================\\n\\n\")\n",
    "\n",
    "a += 1\n",
    "\n",
    "a\n"
   ]
  },
  {
   "cell_type": "code",
   "execution_count": null,
   "metadata": {},
   "outputs": [],
   "source": []
  }
 ],
 "metadata": {
  "kernelspec": {
   "display_name": "Python 3",
   "language": "python",
   "name": "python3"
  },
  "language_info": {
   "codemirror_mode": {
    "name": "ipython",
    "version": 3
   },
   "file_extension": ".py",
   "mimetype": "text/x-python",
   "name": "python",
   "nbconvert_exporter": "python",
   "pygments_lexer": "ipython3",
   "version": "3.7.4"
  }
 },
 "nbformat": 4,
 "nbformat_minor": 2
}
