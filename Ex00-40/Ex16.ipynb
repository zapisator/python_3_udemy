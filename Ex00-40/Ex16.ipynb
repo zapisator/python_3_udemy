{
 "cells": [
  {
   "cell_type": "code",
   "execution_count": 58,
   "metadata": {},
   "outputs": [
    {
     "name": "stdout",
     "output_type": "stream",
     "text": [
      "Hl  afe,\n",
      "Hello, my dear friend, alex.\n",
      "\n",
      "==========\n",
      "\n",
      "x \tis HELLO, MY DEAR FRIEND, ALEX.\n",
      "upper_x is HELLO, MY DEAR FRIEND, ALEX.\n",
      "lower_x is hello, my dear friend, alex.\n",
      "\n",
      "==========\n",
      "\n",
      "<built-in method isupper of str object at 0x7fbfc0c93a80>\n",
      "<built-in method isupper of str object at 0x7fbfaff96210>\n",
      "<built-in method isupper of str object at 0x7fbfc010e440>\n",
      "<built-in method islower of str object at 0x7fbfc0c93a80>\n",
      "<built-in method islower of str object at 0x7fbfaff96210>\n",
      "<built-in method islower of str object at 0x7fbfc010e440>\n",
      "\n",
      "==========\n",
      "\n",
      "False\n",
      "True\n",
      "False\n",
      "False\n",
      "False\n",
      "True\n",
      "\n",
      "==========\n",
      "\n",
      "2\n",
      "2\n",
      "24\n",
      "3\n",
      "-1\n",
      "3\n",
      "\n",
      "==========\n",
      "\n",
      "23\n"
     ]
    }
   ],
   "source": [
    "x = \"Hello, my dear friend, Alex.\"\n",
    "upper_x = x.upper()\n",
    "lower_x = x.lower()\n",
    "\n",
    "print(x[:len(x) - 5: (x.count('l'))])\n",
    "print(x.capitalize())\n",
    "\n",
    "print(\"\\n==========\\n\")\n",
    "\n",
    "print(\"x \\tis %s\" % upper_x)\n",
    "print(\"upper_x is %s\" % upper_x)\n",
    "print(\"lower_x is %s\" % lower_x)\n",
    "\n",
    "print(\"\\n==========\\n\")\n",
    "\n",
    "print(x.isupper)\n",
    "print(upper_x.isupper)\n",
    "print(lower_x.isupper)\n",
    "print(x.islower)\n",
    "print(upper_x.islower)\n",
    "print(lower_x.islower)\n",
    "\n",
    "print(\"\\n==========\\n\")\n",
    "\n",
    "print(x.isupper())\n",
    "print(upper_x.isupper())\n",
    "print(lower_x.isupper())\n",
    "print(x.islower())\n",
    "print(upper_x.islower())\n",
    "print(lower_x.islower())\n",
    "\n",
    "print(\"\\n==========\\n\")\n",
    "\n",
    "print(x.find('l'))\n",
    "print(x.find('l', 0))\n",
    "print(x.find('l', -5))\n",
    "print(x.find('l', x.find('l') + 1))\n",
    "print(x.find('l', x.find('l') + 2, 10))\n",
    "print(x.find('l', x.find('l') + 1, 24))\n",
    "\n",
    "\n",
    "print(\"\\n==========\\n\")\n",
    "\n",
    "print(x.find('Al'))\n"
   ]
  },
  {
   "cell_type": "code",
   "execution_count": 68,
   "metadata": {},
   "outputs": [
    {
     "name": "stdout",
     "output_type": "stream",
     "text": [
      "False\n",
      "False\n",
      "False\n",
      "True\n",
      "False\n",
      "True\n"
     ]
    }
   ],
   "source": [
    "print(\"Horrible little boy!\".isalnum())\n",
    "print(\"Horrible little boy!\".isalpha())\n",
    "print(\"Horrible little boy\".isalnum())\n",
    "print(\"Horriblelittleboy\".isalpha())\n",
    "print(\"Horriblelittleboy\".isspace())\n",
    "print(\" \".isspace())\n"
   ]
  },
  {
   "cell_type": "code",
   "execution_count": 69,
   "metadata": {},
   "outputs": [
    {
     "name": "stdout",
     "output_type": "stream",
     "text": [
      "Horrible little boy!\n"
     ]
    }
   ],
   "source": [
    "print(\"    \\t\\t\\t\\t\\r\\r\\r\\r\\r\\n\\n\\n\\n\\nHorrible little boy!    \\t\\t\\t\\t\\r\\r\\r\\r\\r\\n\\n\\n\\n\\n\".strip())\n"
   ]
  },
  {
   "cell_type": "code",
   "execution_count": 70,
   "metadata": {},
   "outputs": [
    {
     "name": "stdout",
     "output_type": "stream",
     "text": [
      "Horrible little boy!    \t\t\t\t\r",
      "\r",
      "\r",
      "\r",
      "\r\n",
      "\n",
      "\n",
      "\n",
      "\n",
      "\n"
     ]
    }
   ],
   "source": [
    "print(\"    \\t\\t\\t\\t\\r\\r\\r\\r\\r\\n\\n\\n\\n\\nHorrible little boy!    \\t\\t\\t\\t\\r\\r\\r\\r\\r\\n\\n\\n\\n\\n\".lstrip())"
   ]
  },
  {
   "cell_type": "code",
   "execution_count": 71,
   "metadata": {},
   "outputs": [
    {
     "name": "stdout",
     "output_type": "stream",
     "text": [
      "    \t\t\t\t\r",
      "\r",
      "\r",
      "\r",
      "\r\n",
      "\n",
      "\n",
      "\n",
      "\n",
      "Horrible little boy!\n"
     ]
    }
   ],
   "source": [
    "print(\"    \\t\\t\\t\\t\\r\\r\\r\\r\\r\\n\\n\\n\\n\\nHorrible little boy!    \\t\\t\\t\\t\\r\\r\\r\\r\\r\\n\\n\\n\\n\\n\".rstrip())"
   ]
  },
  {
   "cell_type": "code",
   "execution_count": 74,
   "metadata": {},
   "outputs": [
    {
     "name": "stdout",
     "output_type": "stream",
     "text": [
      "Is not empty\n"
     ]
    }
   ],
   "source": [
    "sentence = \"    \\t\\t\\t\\t\\r\\r\\r\\r\\r\\n\\n\\n\\n\\nHorrible little boy!    \\t\\t\\t\\t\\r\\r\\r\\r\\r\\n\\n\\n\\n\\n\"\n",
    "sentence = \"\"\n",
    "if not sentence:\n",
    "    print(\"Is empty\")\n",
    "else:\n",
    "    print(\"Is not empty\")"
   ]
  },
  {
   "cell_type": "code",
   "execution_count": 76,
   "metadata": {},
   "outputs": [
    {
     "name": "stdout",
     "output_type": "stream",
     "text": [
      "True\n",
      "True\n"
     ]
    }
   ],
   "source": [
    "str = \"Horrible little boy!\"\n",
    "print(str.startswith('Ho'))\n",
    "print(str.endswith('y!'))"
   ]
  },
  {
   "cell_type": "code",
   "execution_count": 82,
   "metadata": {},
   "outputs": [
    {
     "name": "stdout",
     "output_type": "stream",
     "text": [
      "<class 'list'>\n",
      "['Horrible', 'boy!']\n",
      "['Horrible', 'little']\n",
      "['boy!']\n",
      "boy!\n"
     ]
    }
   ],
   "source": [
    "split = str.split(' ')\n",
    "print(type(split))\n",
    "print(split[::2])\n",
    "print(split[:2:])\n",
    "print(split[2::])\n",
    "print(split[2])"
   ]
  },
  {
   "cell_type": "code",
   "execution_count": 86,
   "metadata": {},
   "outputs": [
    {
     "name": "stdout",
     "output_type": "stream",
     "text": [
      "('Python', ' is ', 'fun')\n",
      "<class 'tuple'>\n"
     ]
    }
   ],
   "source": [
    "python = \"Python is fun\"\n",
    "print(python.partition(\" is \"))\n",
    "print(type(python.partition(\" is \")))"
   ]
  },
  {
   "cell_type": "code",
   "execution_count": null,
   "metadata": {},
   "outputs": [],
   "source": []
  }
 ],
 "metadata": {
  "kernelspec": {
   "display_name": "Python 3",
   "language": "python",
   "name": "python3"
  },
  "language_info": {
   "codemirror_mode": {
    "name": "ipython",
    "version": 3
   },
   "file_extension": ".py",
   "mimetype": "text/x-python",
   "name": "python",
   "nbconvert_exporter": "python",
   "pygments_lexer": "ipython3",
   "version": "3.7.4"
  }
 },
 "nbformat": 4,
 "nbformat_minor": 2
}
