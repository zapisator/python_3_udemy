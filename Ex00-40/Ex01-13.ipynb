{
 "cells": [
  {
   "cell_type": "code",
   "execution_count": 25,
   "metadata": {},
   "outputs": [
    {
     "name": "stdout",
     "output_type": "stream",
     "text": [
      "3\n",
      "6\n",
      "<class 'int'>\n",
      "3.14\n",
      "<class 'float'>\n",
      "a\n",
      "<class 'str'>\n",
      "3.0\n",
      "<class 'float'>\n"
     ]
    }
   ],
   "source": [
    "x = 3\n",
    "print (x)\n",
    "x += x\n",
    "print (x)\n",
    "print (type (x))\n",
    "x = 3.14\n",
    "print (x)\n",
    "print (type (x))\n",
    "x = 'a'\n",
    "print (x)\n",
    "print (type (x))\n",
    "\n",
    "import math\n",
    "x = math.sqrt(9)\n",
    "print (x)\n",
    "print (type (x))"
   ]
  },
  {
   "cell_type": "code",
   "execution_count": null,
   "metadata": {},
   "outputs": [],
   "source": []
  }
 ],
 "metadata": {
  "kernelspec": {
   "display_name": "Python 3",
   "language": "python",
   "name": "python3"
  },
  "language_info": {
   "codemirror_mode": {
    "name": "ipython",
    "version": 3
   },
   "file_extension": ".py",
   "mimetype": "text/x-python",
   "name": "python",
   "nbconvert_exporter": "python",
   "pygments_lexer": "ipython3",
   "version": "3.7.4"
  }
 },
 "nbformat": 4,
 "nbformat_minor": 2
}
