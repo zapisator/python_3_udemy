{
 "cells": [
  {
   "cell_type": "code",
   "execution_count": 2,
   "metadata": {},
   "outputs": [
    {
     "name": "stdout",
     "output_type": "stream",
     "text": [
      "Hello, world!\n"
     ]
    }
   ],
   "source": [
    "def hello_world():\n",
    "    print(\"Hello, world!\")\n",
    "\n",
    "hello_world()"
   ]
  },
  {
   "cell_type": "code",
   "execution_count": 3,
   "metadata": {},
   "outputs": [
    {
     "name": "stdout",
     "output_type": "stream",
     "text": [
      "Hello, world!\n"
     ]
    }
   ],
   "source": [
    "h = hello_world\n",
    "\n",
    "h()"
   ]
  },
  {
   "cell_type": "code",
   "execution_count": 10,
   "metadata": {},
   "outputs": [
    {
     "name": "stdout",
     "output_type": "stream",
     "text": [
      "Hello, world!\n",
      "Help on function internal in module __main__:\n",
      "\n",
      "internal()\n",
      "\n",
      "Help on NoneType object:\n",
      "\n",
      "class NoneType(object)\n",
      " |  Methods defined here:\n",
      " |  \n",
      " |  __bool__(self, /)\n",
      " |      self != 0\n",
      " |  \n",
      " |  __repr__(self, /)\n",
      " |      Return repr(self).\n",
      " |  \n",
      " |  ----------------------------------------------------------------------\n",
      " |  Static methods defined here:\n",
      " |  \n",
      " |  __new__(*args, **kwargs) from builtins.type\n",
      " |      Create and return a new object.  See help(type) for accurate signature.\n",
      "\n"
     ]
    }
   ],
   "source": [
    "def hello_world():\n",
    "    def internal():\n",
    "        print(\"Hello, world!\")\n",
    "    return (internal)\n",
    "\n",
    "hi = hello_world()\n",
    "hi()\n",
    "help(help(hi))\n",
    "#help(internal)"
   ]
  },
  {
   "cell_type": "code",
   "execution_count": 12,
   "metadata": {},
   "outputs": [
    {
     "name": "stdout",
     "output_type": "stream",
     "text": [
      "Hello, world!\n"
     ]
    }
   ],
   "source": [
    "def say_smth(func):\n",
    "    func()\n",
    "    \n",
    "def hello_world():\n",
    "    print(\"Hello, world!\")\n",
    "    \n",
    "say_smth(hello_world)\n",
    "    "
   ]
  },
  {
   "cell_type": "code",
   "execution_count": 16,
   "metadata": {},
   "outputs": [
    {
     "name": "stdout",
     "output_type": "stream",
     "text": [
      "Calling func: <function hello at 0x7f63b040b950>\n",
      "Hello!\n",
      "func <function hello at 0x7f63b040b950> finished its work.\n"
     ]
    }
   ],
   "source": [
    "def log_decorator(func):\n",
    "    def wraper():\n",
    "        print(f\"Calling func: {func}\")\n",
    "        func()\n",
    "        print(f\"func {func} finished its work.\")\n",
    "    return (wraper)\n",
    "    \n",
    "def hello():\n",
    "    print(\"Hello!\")\n",
    "    \n",
    "wrapped_by_logger = log_decorator(hello)\n",
    "wrapped_by_logger()"
   ]
  },
  {
   "cell_type": "code",
   "execution_count": 17,
   "metadata": {},
   "outputs": [
    {
     "name": "stdout",
     "output_type": "stream",
     "text": [
      "Calling func: <function hello at 0x7f63b07b67a0>\n",
      "Hello, world!\n",
      "func <function hello at 0x7f63b07b67a0> finished its work.\n"
     ]
    }
   ],
   "source": [
    "@log_decorator\n",
    "def hello():\n",
    "    print(\"Hello, world!\")\n",
    "    \n",
    "hello()"
   ]
  },
  {
   "cell_type": "code",
   "execution_count": 19,
   "metadata": {},
   "outputs": [
    {
     "name": "stdout",
     "output_type": "stream",
     "text": [
      "Calling func: <function huba at 0x7f639feca200>\n",
      "Hoba!\n",
      "func <function huba at 0x7f639feca200> finished its work.\n"
     ]
    }
   ],
   "source": [
    "@log_decorator\n",
    "def huba():\n",
    "    print(\"Hoba!\")\n",
    "    \n",
    "huba()"
   ]
  },
  {
   "cell_type": "code",
   "execution_count": 21,
   "metadata": {},
   "outputs": [
    {
     "name": "stdout",
     "output_type": "stream",
     "text": [
      "Calling func: <function log_decorator.<locals>.wraper at 0x7f639feca290>\n",
      "Calling func: <function huba at 0x7f639feca200>\n",
      "Hoba!\n",
      "func <function huba at 0x7f639feca200> finished its work.\n",
      "func <function log_decorator.<locals>.wraper at 0x7f639feca290> finished its work.\n"
     ]
    }
   ],
   "source": [
    "#log_decorator(huba)()"
   ]
  },
  {
   "cell_type": "code",
   "execution_count": null,
   "metadata": {},
   "outputs": [],
   "source": []
  }
 ],
 "metadata": {
  "kernelspec": {
   "display_name": "Python 3",
   "language": "python",
   "name": "python3"
  },
  "language_info": {
   "codemirror_mode": {
    "name": "ipython",
    "version": 3
   },
   "file_extension": ".py",
   "mimetype": "text/x-python",
   "name": "python",
   "nbconvert_exporter": "python",
   "pygments_lexer": "ipython3",
   "version": "3.7.4"
  }
 },
 "nbformat": 4,
 "nbformat_minor": 2
}
