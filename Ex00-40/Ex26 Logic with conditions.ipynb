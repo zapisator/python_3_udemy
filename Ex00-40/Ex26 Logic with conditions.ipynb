{
 "cells": [
  {
   "cell_type": "code",
   "execution_count": 4,
   "metadata": {},
   "outputs": [
    {
     "name": "stdout",
     "output_type": "stream",
     "text": [
      "ljyh\n",
      "Hmm... It seems we have a new race.\n"
     ]
    }
   ],
   "source": [
    "selected_character = input()\n",
    "\n",
    "if selected_character == 'Protos':\n",
    "    print(\"Protos is the most powerfull race!\")\n",
    "elif selected_character == \"Zerg\":\n",
    "    print(\"Zerg is the weakest race but it spreade like a plague.\")\n",
    "elif selected_character == 'Terrain':\n",
    "    print(\"Terrain is ballanced between two Zerg and Protos.\")\n",
    "else:\n",
    "    print(\"Hmm... It seems we have a new race.\")"
   ]
  },
  {
   "cell_type": "code",
   "execution_count": null,
   "metadata": {},
   "outputs": [],
   "source": []
  }
 ],
 "metadata": {
  "kernelspec": {
   "display_name": "Python 3",
   "language": "python",
   "name": "python3"
  },
  "language_info": {
   "codemirror_mode": {
    "name": "ipython",
    "version": 3
   },
   "file_extension": ".py",
   "mimetype": "text/x-python",
   "name": "python",
   "nbconvert_exporter": "python",
   "pygments_lexer": "ipython3",
   "version": "3.7.4"
  }
 },
 "nbformat": 4,
 "nbformat_minor": 2
}
