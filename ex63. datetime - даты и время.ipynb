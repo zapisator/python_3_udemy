{
 "cells": [
  {
   "cell_type": "code",
   "execution_count": 1,
   "metadata": {},
   "outputs": [],
   "source": [
    "from datetime import datetime\n",
    "from datetime import date\n",
    "from datetime import time\n",
    "from datetime import timedelta"
   ]
  },
  {
   "cell_type": "code",
   "execution_count": 2,
   "metadata": {},
   "outputs": [
    {
     "name": "stdout",
     "output_type": "stream",
     "text": [
      "2019-03-12\n",
      "2019\n",
      "3\n",
      "12\n"
     ]
    }
   ],
   "source": [
    "d1 = date(2019, 3, 12)\n",
    "print(d1)\n",
    "print(d1.year)\n",
    "print(d1.month)\n",
    "print(d1.day)"
   ]
  },
  {
   "cell_type": "code",
   "execution_count": 3,
   "metadata": {},
   "outputs": [
    {
     "name": "stdout",
     "output_type": "stream",
     "text": [
      "23:10:59\n",
      "23\n",
      "10\n",
      "59\n"
     ]
    }
   ],
   "source": [
    "t1 = time(23, 10, 59)\n",
    "print(t1)\n",
    "print(t1.hour)\n",
    "print(t1.minute)\n",
    "print(t1.second)"
   ]
  },
  {
   "cell_type": "code",
   "execution_count": 4,
   "metadata": {},
   "outputs": [
    {
     "name": "stdout",
     "output_type": "stream",
     "text": [
      "2020-03-27\n"
     ]
    }
   ],
   "source": [
    "print(date.today())"
   ]
  },
  {
   "cell_type": "code",
   "execution_count": 6,
   "metadata": {},
   "outputs": [
    {
     "name": "stdout",
     "output_type": "stream",
     "text": [
      "9999-12-31\n",
      "0001-01-01\n",
      "23:59:59.999999\n",
      "00:00:00\n"
     ]
    }
   ],
   "source": [
    "print(date.max)\n",
    "print(date.min)\n",
    "print(time.max)\n",
    "print(time.min)"
   ]
  },
  {
   "cell_type": "code",
   "execution_count": 7,
   "metadata": {},
   "outputs": [
    {
     "name": "stdout",
     "output_type": "stream",
     "text": [
      "2019-03-12 23:10:59\n"
     ]
    }
   ],
   "source": [
    "dt = datetime(2019, 3, 12, 23, 10, 59)\n",
    "print(dt)"
   ]
  },
  {
   "cell_type": "code",
   "execution_count": 8,
   "metadata": {},
   "outputs": [
    {
     "name": "stdout",
     "output_type": "stream",
     "text": [
      "2019\n",
      "23\n"
     ]
    }
   ],
   "source": [
    "print(dt.date().year)\n",
    "print(dt.time().hour)"
   ]
  },
  {
   "cell_type": "code",
   "execution_count": 9,
   "metadata": {},
   "outputs": [
    {
     "name": "stdout",
     "output_type": "stream",
     "text": [
      "9999-12-31 23:59:59.999999\n",
      "0001-01-01 00:00:00\n"
     ]
    }
   ],
   "source": [
    "print(dt.max)\n",
    "print(dt.min)"
   ]
  },
  {
   "cell_type": "code",
   "execution_count": 26,
   "metadata": {},
   "outputs": [
    {
     "name": "stdout",
     "output_type": "stream",
     "text": [
      "2020-03-28 00:35:18.766546\n"
     ]
    }
   ],
   "source": [
    "now = datetime.now()\n",
    "print(now)"
   ]
  },
  {
   "cell_type": "code",
   "execution_count": 27,
   "metadata": {},
   "outputs": [
    {
     "name": "stdout",
     "output_type": "stream",
     "text": [
      "2020\n",
      "3\n",
      "28\n",
      "0\n",
      "35\n",
      "18\n"
     ]
    }
   ],
   "source": [
    "print(now.year)\n",
    "print(now.month)\n",
    "print(now.day)\n",
    "print(now.hour)\n",
    "print(now.minute)\n",
    "print(now.second)"
   ]
  },
  {
   "cell_type": "code",
   "execution_count": 28,
   "metadata": {},
   "outputs": [
    {
     "name": "stdout",
     "output_type": "stream",
     "text": [
      "2011-03-28 00:35:18.766546\n",
      "2020-03-28 00:35:18.766546\n"
     ]
    }
   ],
   "source": [
    "new_dt = now.replace(year = 2011)\n",
    "print(new_dt)\n",
    "print(now)"
   ]
  },
  {
   "cell_type": "code",
   "execution_count": 29,
   "metadata": {},
   "outputs": [
    {
     "name": "stdout",
     "output_type": "stream",
     "text": [
      "2003-08-30 00:00:00 \n",
      "\n",
      "2003-08-30 20:34:00\n"
     ]
    }
   ],
   "source": [
    "dt2 = datetime.strptime(\"30/08/2003\", \"%d/%m/%Y\")\n",
    "print(dt2, \"\\n\")\n",
    "\n",
    "dt3 = datetime.strptime(\"30/08/03 20:34\", \"%d/%m/%y %H:%M\")\n",
    "print(dt3)"
   ]
  },
  {
   "cell_type": "code",
   "execution_count": 30,
   "metadata": {},
   "outputs": [
    {
     "data": {
      "text/plain": [
       "'ru_RU.UTF-8'"
      ]
     },
     "execution_count": 30,
     "metadata": {},
     "output_type": "execute_result"
    }
   ],
   "source": [
    "import locale\n",
    "locale.setlocale(locale.LC_ALL, \"\")"
   ]
  },
  {
   "cell_type": "code",
   "execution_count": 33,
   "metadata": {},
   "outputs": [
    {
     "name": "stdout",
     "output_type": "stream",
     "text": [
      "2020-03-28 (Сб)\n",
      "2020 марта 28 число (Суббота)\n"
     ]
    }
   ],
   "source": [
    "now = datetime.now()\n",
    "print(now.strftime(\"%Y-%m-%d (%a)\"))\n",
    "print(now.strftime(\"%Y %B %d число (%A)\"))"
   ]
  },
  {
   "cell_type": "code",
   "execution_count": 36,
   "metadata": {},
   "outputs": [
    {
     "name": "stdout",
     "output_type": "stream",
     "text": [
      "-382 days, 22:33:14.864916 \n",
      " <class 'datetime.timedelta'>\n"
     ]
    }
   ],
   "source": [
    "delta = dt - now\n",
    "print(delta, \"\\n\", type(delta))"
   ]
  },
  {
   "cell_type": "code",
   "execution_count": null,
   "metadata": {},
   "outputs": [],
   "source": []
  }
 ],
 "metadata": {
  "kernelspec": {
   "display_name": "Python 3",
   "language": "python",
   "name": "python3"
  },
  "language_info": {
   "codemirror_mode": {
    "name": "ipython",
    "version": 3
   },
   "file_extension": ".py",
   "mimetype": "text/x-python",
   "name": "python",
   "nbconvert_exporter": "python",
   "pygments_lexer": "ipython3",
   "version": "3.7.4"
  }
 },
 "nbformat": 4,
 "nbformat_minor": 2
}
