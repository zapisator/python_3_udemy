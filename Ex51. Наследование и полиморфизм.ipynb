{
 "cells": [
  {
   "cell_type": "code",
   "execution_count": 16,
   "metadata": {},
   "outputs": [],
   "source": [
    "class Shape():\n",
    "    \n",
    "    def __init__(self):\n",
    "        return print(\"Shape is created.\")\n",
    "           \n",
    "    def draw(self):\n",
    "        return print(\"Draw a shape.\")\n",
    "    \n",
    "    def area(self):\n",
    "        return print(\"Calc area.\")\n",
    "    \n",
    "    def perimetr(self):\n",
    "        return print(\"Calc perimetr.\")"
   ]
  },
  {
   "cell_type": "code",
   "execution_count": 17,
   "metadata": {},
   "outputs": [
    {
     "name": "stdout",
     "output_type": "stream",
     "text": [
      "Shape is created.\n",
      "Draw a shape.\n"
     ]
    }
   ],
   "source": [
    "d1 = Shape()\n",
    "d1.draw()"
   ]
  },
  {
   "cell_type": "code",
   "execution_count": 18,
   "metadata": {},
   "outputs": [],
   "source": [
    "class Rectangle(Shape):\n",
    "    \n",
    "    def __init__(self, width, height):\n",
    "        Shape.__init__(self)\n",
    "        \n",
    "        self.width = width\n",
    "        self.height = height\n",
    "        \n",
    "        return print(\"Rectangle is created.\")\n",
    "    \n",
    "    def draw(self):\n",
    "        return print(f\"Draw rectangle width {self.width} and height {self.height}\")\n",
    "    \n",
    "    def area(self):\n",
    "        return print(f\"Area is: \\t{self.width * self.height}.\")\n",
    "    \n",
    "    def perimetr(self):\n",
    "        return print(f\"Perimetr is: \\t{2 * (self.width + self.height)}\")\n",
    "        "
   ]
  },
  {
   "cell_type": "code",
   "execution_count": 19,
   "metadata": {},
   "outputs": [
    {
     "name": "stdout",
     "output_type": "stream",
     "text": [
      "Shape is created.\n",
      "Rectangle is created.\n",
      "Draw rectangle width 10 and height 15\n",
      "Area is: \t150.\n",
      "Perimetr is: \t50\n"
     ]
    }
   ],
   "source": [
    "r1 = Rectangle(10, 15)\n",
    "r1.draw()\n",
    "r1.area()\n",
    "r1.perimetr()"
   ]
  },
  {
   "cell_type": "code",
   "execution_count": 20,
   "metadata": {},
   "outputs": [],
   "source": [
    "import math\n",
    "\n",
    "class triangle(Shape):\n",
    "    \n",
    "    def __init__(self, a, b, c):\n",
    "        \n",
    "        Shape.__init__(self)\n",
    "        \n",
    "        self.a = a\n",
    "        self.b = b\n",
    "        self.c = c\n",
    "        \n",
    "        return\n",
    "    \n",
    "    def draw(self):\n",
    "        return print(f\"Drawing triangle with sides: {self.a}, {self.b}, {self.c}\")\n",
    "    \n",
    "    def area(self):\n",
    "        s = (self.a + self.b + self.c) / 2\n",
    "        return print(f\"Area is: {math.sqrt(s * (s - self.a) * (s - self.b) * (s - self.c))}\")\n",
    "    \n",
    "    def perimetr(self):\n",
    "        return print(f\"Perimetr is: \\t{self.a + self.b + self.c}\")"
   ]
  },
  {
   "cell_type": "code",
   "execution_count": 21,
   "metadata": {},
   "outputs": [
    {
     "name": "stdout",
     "output_type": "stream",
     "text": [
      "Shape is created.\n",
      "Drawing triangle with sides: 10, 10, 10\n",
      "Area is: 43.30127018922193\n",
      "Perimetr is: \t30\n"
     ]
    }
   ],
   "source": [
    "t1 = triangle(10, 10, 10)\n",
    "t1.draw()\n",
    "t1.area()\n",
    "t1.perimetr()"
   ]
  },
  {
   "cell_type": "code",
   "execution_count": 22,
   "metadata": {},
   "outputs": [
    {
     "name": "stdout",
     "output_type": "stream",
     "text": [
      "Draw a shape.\n",
      "Draw rectangle width 10 and height 15\n",
      "Drawing triangle with sides: 10, 10, 10\n"
     ]
    }
   ],
   "source": [
    "for shape in [d1, r1, t1]:\n",
    "    shape.draw()"
   ]
  },
  {
   "cell_type": "code",
   "execution_count": 24,
   "metadata": {},
   "outputs": [],
   "source": [
    "class Animal():\n",
    "    \n",
    "    def __init__(self):\n",
    "        return print(\"Animal is created.\")\n",
    "           \n",
    "    def speak(self):\n",
    "        raise NotImplementedError(\"Can not instantiate an abstract class.\")"
   ]
  },
  {
   "cell_type": "code",
   "execution_count": 33,
   "metadata": {},
   "outputs": [
    {
     "name": "stdout",
     "output_type": "stream",
     "text": [
      "Animal is created.\n"
     ]
    },
    {
     "ename": "NotImplementedError",
     "evalue": "Can not instantiate an abstract class.",
     "output_type": "error",
     "traceback": [
      "\u001b[0;31m---------------------------------------------------------------------------\u001b[0m",
      "\u001b[0;31mNotImplementedError\u001b[0m                       Traceback (most recent call last)",
      "\u001b[0;32m<ipython-input-33-e18fad68f568>\u001b[0m in \u001b[0;36m<module>\u001b[0;34m\u001b[0m\n\u001b[1;32m      1\u001b[0m \u001b[0ma1\u001b[0m \u001b[0;34m=\u001b[0m \u001b[0mAnimal\u001b[0m\u001b[0;34m(\u001b[0m\u001b[0;34m)\u001b[0m\u001b[0;34m\u001b[0m\u001b[0;34m\u001b[0m\u001b[0m\n\u001b[0;32m----> 2\u001b[0;31m \u001b[0ma1\u001b[0m\u001b[0;34m.\u001b[0m\u001b[0mspeak\u001b[0m\u001b[0;34m(\u001b[0m\u001b[0;34m)\u001b[0m\u001b[0;34m\u001b[0m\u001b[0;34m\u001b[0m\u001b[0m\n\u001b[0m",
      "\u001b[0;32m<ipython-input-24-a1d187f26552>\u001b[0m in \u001b[0;36mspeak\u001b[0;34m(self)\u001b[0m\n\u001b[1;32m      5\u001b[0m \u001b[0;34m\u001b[0m\u001b[0m\n\u001b[1;32m      6\u001b[0m     \u001b[0;32mdef\u001b[0m \u001b[0mspeak\u001b[0m\u001b[0;34m(\u001b[0m\u001b[0mself\u001b[0m\u001b[0;34m)\u001b[0m\u001b[0;34m:\u001b[0m\u001b[0;34m\u001b[0m\u001b[0;34m\u001b[0m\u001b[0m\n\u001b[0;32m----> 7\u001b[0;31m         \u001b[0;32mraise\u001b[0m \u001b[0mNotImplementedError\u001b[0m\u001b[0;34m(\u001b[0m\u001b[0;34m\"Can not instantiate an abstract class.\"\u001b[0m\u001b[0;34m)\u001b[0m\u001b[0;34m\u001b[0m\u001b[0;34m\u001b[0m\u001b[0m\n\u001b[0m",
      "\u001b[0;31mNotImplementedError\u001b[0m: Can not instantiate an abstract class."
     ]
    }
   ],
   "source": [
    "a1 = Animal()\n",
    "a1.speak()"
   ]
  },
  {
   "cell_type": "code",
   "execution_count": 30,
   "metadata": {},
   "outputs": [],
   "source": [
    "class Lion(Animal):\n",
    "    \n",
    "    def __init__(self):\n",
    "        \n",
    "        Animal.__init__(self)\n",
    "        \n",
    "        return print(\"Animal turned Lion.\")\n",
    "           \n",
    "    def speak(self):\n",
    "        return print(\"Hear me roar!\")"
   ]
  },
  {
   "cell_type": "code",
   "execution_count": 34,
   "metadata": {},
   "outputs": [
    {
     "name": "stdout",
     "output_type": "stream",
     "text": [
      "Animal is created.\n",
      "Animal turned Lion.\n",
      "Hear me roar!\n"
     ]
    }
   ],
   "source": [
    "l1 = Lion()\n",
    "l1.speak()"
   ]
  },
  {
   "cell_type": "code",
   "execution_count": null,
   "metadata": {},
   "outputs": [],
   "source": []
  }
 ],
 "metadata": {
  "kernelspec": {
   "display_name": "Python 3",
   "language": "python",
   "name": "python3"
  },
  "language_info": {
   "codemirror_mode": {
    "name": "ipython",
    "version": 3
   },
   "file_extension": ".py",
   "mimetype": "text/x-python",
   "name": "python",
   "nbconvert_exporter": "python",
   "pygments_lexer": "ipython3",
   "version": "3.7.4"
  }
 },
 "nbformat": 4,
 "nbformat_minor": 2
}
