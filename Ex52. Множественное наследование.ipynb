{
 "cells": [
  {
   "cell_type": "code",
   "execution_count": 2,
   "metadata": {},
   "outputs": [],
   "source": [
    "class Animal():\n",
    "    def die(self):\n",
    "        self.helth = 0\n",
    "        return print(f\"Bye-bye!\")\n",
    "    \n",
    "class Carnivore():\n",
    "    def hunt(self):\n",
    "        self.satiety = 100\n",
    "        return print(f\"I am eating.\")\n",
    "    \n",
    "class Dog(Animal, Carnivore):\n",
    "    def speak(self):\n",
    "        return print(f\"Woof.\")"
   ]
  },
  {
   "cell_type": "code",
   "execution_count": 4,
   "metadata": {},
   "outputs": [
    {
     "name": "stdout",
     "output_type": "stream",
     "text": [
      "Woof.\n",
      "I am eating.\n",
      "Bye-bye!\n"
     ]
    }
   ],
   "source": [
    "d = Dog()\n",
    "d.speak()\n",
    "d.hunt()\n",
    "d.die()"
   ]
  },
  {
   "cell_type": "code",
   "execution_count": null,
   "metadata": {},
   "outputs": [],
   "source": [
    "#Проблемы со мноджественным наследованием частично могут быть решены с python3 через super()"
   ]
  }
 ],
 "metadata": {
  "kernelspec": {
   "display_name": "Python 3",
   "language": "python",
   "name": "python3"
  },
  "language_info": {
   "codemirror_mode": {
    "name": "ipython",
    "version": 3
   },
   "file_extension": ".py",
   "mimetype": "text/x-python",
   "name": "python",
   "nbconvert_exporter": "python",
   "pygments_lexer": "ipython3",
   "version": "3.7.4"
  }
 },
 "nbformat": 4,
 "nbformat_minor": 2
}
