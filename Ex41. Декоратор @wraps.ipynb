{
 "cells": [
  {
   "cell_type": "code",
   "execution_count": 10,
   "metadata": {},
   "outputs": [
    {
     "name": "stdout",
     "output_type": "stream",
     "text": [
      "Calling function <function hello at 0x7fde93eb9200>\n",
      "Hello, it is me inside the wrapper. Help!\n",
      "Function <function hello at 0x7fde93eb9200> has finished its work.\n",
      "\n",
      "Help on function wrap in module __main__:\n",
      "\n",
      "wrap()\n",
      "\n",
      "None\n"
     ]
    }
   ],
   "source": [
    "def log_decorator(func):\n",
    "    def wrap():\n",
    "        print(f\"Calling function {func}\")\n",
    "        func()\n",
    "        print(f\"Function {func} has finished its work.\")\n",
    "    return (wrap)\n",
    "\n",
    "@log_decorator\n",
    "def hello():\n",
    "    print(\"Hello, it is me inside the wrapper. Help!\")\n",
    "    \n",
    "hello()\n",
    "print()\n",
    "print(help(hello))"
   ]
  },
  {
   "cell_type": "code",
   "execution_count": 11,
   "metadata": {},
   "outputs": [
    {
     "name": "stdout",
     "output_type": "stream",
     "text": [
      "Calling function <function hello at 0x7fde93eb9e60>\n",
      "Hello, it is me inside the wrapper. Help!\n",
      "Function <function hello at 0x7fde93eb9e60> has finished its work.\n",
      "\n",
      "Help on function hello in module __main__:\n",
      "\n",
      "hello()\n",
      "\n",
      "None\n"
     ]
    }
   ],
   "source": [
    "from functools import wraps\n",
    "\n",
    "def log_decorator(func):\n",
    "    @wraps(func)\n",
    "    def wrap(*args, **kwargs):\n",
    "        print(f\"Calling function {func}\")\n",
    "        func()\n",
    "        print(f\"Function {func} has finished its work.\")\n",
    "    return (wrap)\n",
    "\n",
    "@log_decorator\n",
    "def hello():\n",
    "    print(\"Hello, it is me inside the wrapper. Help!\")\n",
    "    \n",
    "hello()\n",
    "print()\n",
    "print(help(hello))\n"
   ]
  },
  {
   "cell_type": "code",
   "execution_count": null,
   "metadata": {},
   "outputs": [],
   "source": []
  }
 ],
 "metadata": {
  "kernelspec": {
   "display_name": "Python 3",
   "language": "python",
   "name": "python3"
  },
  "language_info": {
   "codemirror_mode": {
    "name": "ipython",
    "version": 3
   },
   "file_extension": ".py",
   "mimetype": "text/x-python",
   "name": "python",
   "nbconvert_exporter": "python",
   "pygments_lexer": "ipython3",
   "version": "3.7.4"
  }
 },
 "nbformat": 4,
 "nbformat_minor": 2
}
