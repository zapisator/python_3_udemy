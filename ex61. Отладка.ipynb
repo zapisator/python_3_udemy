{
 "cells": [
  {
   "cell_type": "code",
   "execution_count": 1,
   "metadata": {},
   "outputs": [],
   "source": [
    "import pdb"
   ]
  },
  {
   "cell_type": "code",
   "execution_count": 2,
   "metadata": {},
   "outputs": [
    {
     "name": "stdout",
     "output_type": "stream",
     "text": [
      "--Return--\n",
      "> <ipython-input-2-8da368b2e80e>(5)<module>()->None\n",
      "-> pdb.set_trace()\n",
      "(Pdb) x\n",
      "1\n",
      "(Pdb) y\n",
      "2\n",
      "(Pdb) z\n",
      "*** NameError: name 'z' is not defined\n",
      "(Pdb) c\n",
      "--Return--\n",
      "> <ipython-input-2-8da368b2e80e>(10)<module>()->None\n",
      "-> pdb.set_trace()\n",
      "(Pdb) z\n",
      "3\n",
      "--KeyboardInterrupt--\n",
      "--KeyboardInterrupt--\n",
      "--KeyboardInterrupt--\n",
      "(Pdb) c\n",
      "Finish.\n"
     ]
    }
   ],
   "source": [
    "x = 1\n",
    "y = 2\n",
    "\n",
    "# Отладчика точка останова задана будет здесь.\n",
    "pdb.set_trace()\n",
    "\n",
    "z = 3\n",
    "x += 1\n",
    "\n",
    "pdb.set_trace()\n",
    "print(\"Finish.\")"
   ]
  },
  {
   "cell_type": "code",
   "execution_count": null,
   "metadata": {},
   "outputs": [],
   "source": []
  }
 ],
 "metadata": {
  "kernelspec": {
   "display_name": "Python 3",
   "language": "python",
   "name": "python3"
  },
  "language_info": {
   "codemirror_mode": {
    "name": "ipython",
    "version": 3
   },
   "file_extension": ".py",
   "mimetype": "text/x-python",
   "name": "python",
   "nbconvert_exporter": "python",
   "pygments_lexer": "ipython3",
   "version": "3.7.4"
  }
 },
 "nbformat": 4,
 "nbformat_minor": 2
}
