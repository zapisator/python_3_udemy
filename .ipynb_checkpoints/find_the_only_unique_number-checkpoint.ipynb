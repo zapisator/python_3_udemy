{
 "cells": [
  {
   "cell_type": "markdown",
   "metadata": {},
   "source": [
    "Дано.\n",
    "==========\n",
    "\n",
    "Массив чисел z, такое что, некоторое из чисел присутствует в массиве однократно, а все остальные -- по 2 раза.\n",
    "\n",
    "Найти.\n",
    "==========\n",
    "\n",
    "Число, входящее однократно. (Например, для z = [1, 3, 2, 2, 5, 4, 3, 1, 5] на выходе должно быть 4)."
   ]
  },
  {
   "cell_type": "code",
   "execution_count": 32,
   "metadata": {},
   "outputs": [],
   "source": [
    "class Unique_number():\n",
    "    \n",
    "    def __init__(self, array):\n",
    "        self.array = array\n",
    "        self.dict_array = {}\n",
    "        return\n",
    "    \n",
    "    def insert_array_to_hash_table(self):\n",
    "        result = None\n",
    "        value = None\n",
    "        for nb in self.array:\n",
    "            if self.dict_array.get(nb) == None:\n",
    "                self.dict_array.setdefault(nb, 1)\n",
    "            else:\n",
    "                value = self.dict_array.pop(nb)\n",
    "                self.dict_array.setdefault(nb, value + 1)\n",
    "        return\n",
    "    \n",
    "    def unique_nb(self):\n",
    "        self.insert_array_to_hash_table()\n",
    "        for nb in self.array:\n",
    "            if self.dict_array.get(nb) == 1:\n",
    "                print(f\"The number is {nb}\")\n",
    "                return\n",
    "        print(\"Error!\")\n",
    "        return"
   ]
  },
  {
   "cell_type": "code",
   "execution_count": 33,
   "metadata": {},
   "outputs": [
    {
     "name": "stdout",
     "output_type": "stream",
     "text": [
      "The number is 4\n"
     ]
    }
   ],
   "source": [
    "un = Unique_number([1, 3, 2, 2, 5, 4, 3, 1, 5])\n",
    "un.unique_nb()\n",
    "# print(type(un.array), \": \", un.array)\n",
    "# print(type(un.dict_array), \": \", un.dict_array)"
   ]
  },
  {
   "cell_type": "code",
   "execution_count": null,
   "metadata": {},
   "outputs": [],
   "source": []
  }
 ],
 "metadata": {
  "kernelspec": {
   "display_name": "Python 3",
   "language": "python",
   "name": "python3"
  },
  "language_info": {
   "codemirror_mode": {
    "name": "ipython",
    "version": 3
   },
   "file_extension": ".py",
   "mimetype": "text/x-python",
   "name": "python",
   "nbconvert_exporter": "python",
   "pygments_lexer": "ipython3",
   "version": "3.7.4"
  }
 },
 "nbformat": 4,
 "nbformat_minor": 2
}
