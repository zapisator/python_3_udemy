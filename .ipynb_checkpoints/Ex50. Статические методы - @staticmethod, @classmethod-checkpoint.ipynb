{
 "cells": [
  {
   "cell_type": "code",
   "execution_count": 1,
   "metadata": {},
   "outputs": [
    {
     "name": "stdout",
     "output_type": "stream",
     "text": [
      "Via instance: 1\n",
      "Via class   : 1\n"
     ]
    }
   ],
   "source": [
    "class Static_test:\n",
    "    x = 1\n",
    "\n",
    "t1 = Static_test()    \n",
    "\n",
    "print(f\"Via instance: {t1.x}\")\n",
    "print(f\"Via class   : {Static_test.x}\")"
   ]
  },
  {
   "cell_type": "code",
   "execution_count": 2,
   "metadata": {},
   "outputs": [
    {
     "name": "stdout",
     "output_type": "stream",
     "text": [
      "Via instance: 2\n",
      "Via class   : 1\n",
      "Via instance: 2\n",
      "Via class   : 3\n"
     ]
    }
   ],
   "source": [
    "t1.x = 2\n",
    "print(f\"Via instance: {t1.x}\")\n",
    "print(f\"Via class   : {Static_test.x}\")\n",
    "\n",
    "Static_test.x = 3\n",
    "print(f\"Via instance: {t1.x}\")\n",
    "print(f\"Via class   : {Static_test.x}\")"
   ]
  },
  {
   "cell_type": "code",
   "execution_count": 10,
   "metadata": {},
   "outputs": [],
   "source": [
    "#можно возвращать форматированную строку\n",
    "\n",
    "class Date:\n",
    "    def __init__(self, month, day, year):\n",
    "        self.month = month\n",
    "        self.day = day\n",
    "        self.year = year\n",
    "        \n",
    "    def display(self):\n",
    "        return f\"{self.month} - {self.day} - {self.year}\"\n",
    "    \n",
    "    @classmethod\n",
    "    def millenium_c(cls, month, day):\n",
    "        return cls(month, day, 2000)\n",
    "    \n",
    "    @staticmethod\n",
    "    def millenium_s(month, day):\n",
    "        return Date(month, day, 2000)"
   ]
  },
  {
   "cell_type": "code",
   "execution_count": 9,
   "metadata": {},
   "outputs": [
    {
     "name": "stdout",
     "output_type": "stream",
     "text": [
      "6 - 9 - 2000\n",
      "6 - 9 - 2000\n"
     ]
    }
   ],
   "source": [
    "d1 = Date.millenium_c(6, 9)\n",
    "d2 = Date.millenium_s(6, 9)\n",
    "\n",
    "print(d1.display())\n",
    "print(d2.display())"
   ]
  },
  {
   "cell_type": "code",
   "execution_count": 16,
   "metadata": {},
   "outputs": [
    {
     "name": "stdout",
     "output_type": "stream",
     "text": [
      "10 - 10 - 1990 - 00:00:00PM\n",
      "10 - 10 - 2000 - 00:00:00PM\n",
      "10 - 10 - 2000\n",
      "\n",
      "\n",
      "d1 ∈ Date_time ?:  True\n",
      "d2 ∈ Date_time ?:  True\n",
      "d3 ∈ Date_time ?:  False\n"
     ]
    }
   ],
   "source": [
    "class Date_time(Date):\n",
    "    def display(self):\n",
    "        return f\"{self.month} - {self.day} - {self.year} - 00:00:00PM\"\n",
    "    \n",
    "d1 = Date_time(10, 10, 1990)\n",
    "d2 = Date_time.millenium_c(10, 10)\n",
    "d3 = Date_time.millenium_s(10, 10)\n",
    "\n",
    "print(d1.display())\n",
    "print(d2.display())\n",
    "print(d3.display())\n",
    "\n",
    "print(\"\\n\")\n",
    "\n",
    "print(\"d1 ∈ Date_time ?: \", isinstance(d1, Date_time))\n",
    "print(\"d2 ∈ Date_time ?: \", isinstance(d2, Date_time))\n",
    "print(\"d3 ∈ Date_time ?: \", isinstance(d3, Date_time))"
   ]
  },
  {
   "cell_type": "code",
   "execution_count": 17,
   "metadata": {},
   "outputs": [],
   "source": [
    "class Str_converter:\n",
    "    \n",
    "    @staticmethod\n",
    "    def to_str(bytes_or_str):\n",
    "        if isinstance(bytes_or_str, bytes):\n",
    "            value = bytes_or_str.decode(\"utf-8\")\n",
    "        else:\n",
    "            value = bytes_or_str\n",
    "        return value\n",
    "    \n",
    "    @staticmethod\n",
    "    def to_bytes(bytes_or_str):\n",
    "        if isinstance(bytes_or_str, str):\n",
    "            value = bytes_or_str.encode(\"utf-8\")\n",
    "        else:\n",
    "            value = bytes_or_str\n",
    "        return value"
   ]
  },
  {
   "cell_type": "code",
   "execution_count": 18,
   "metadata": {},
   "outputs": [
    {
     "name": "stdout",
     "output_type": "stream",
     "text": [
      "A\n",
      "A\n",
      "\n",
      "\n",
      "b'A'\n",
      "b'A'\n"
     ]
    }
   ],
   "source": [
    "print(Str_converter.to_str(\"\\x41\"))\n",
    "print(Str_converter.to_str(\"A\"))\n",
    "\n",
    "print(\"\\n\")\n",
    "\n",
    "print(Str_converter.to_bytes(\"\\x41\"))\n",
    "print(Str_converter.to_bytes(\"A\"))"
   ]
  },
  {
   "cell_type": "code",
   "execution_count": null,
   "metadata": {},
   "outputs": [],
   "source": []
  }
 ],
 "metadata": {
  "kernelspec": {
   "display_name": "Python 3",
   "language": "python",
   "name": "python3"
  },
  "language_info": {
   "codemirror_mode": {
    "name": "ipython",
    "version": 3
   },
   "file_extension": ".py",
   "mimetype": "text/x-python",
   "name": "python",
   "nbconvert_exporter": "python",
   "pygments_lexer": "ipython3",
   "version": "3.7.4"
  }
 },
 "nbformat": 4,
 "nbformat_minor": 2
}
