{
 "cells": [
  {
   "cell_type": "code",
   "execution_count": 10,
   "metadata": {},
   "outputs": [],
   "source": [
    "#abstract base class ABC\n",
    "\n",
    "from abc import ABC\n",
    "from abc import abstractmethod\n",
    "import math"
   ]
  },
  {
   "cell_type": "code",
   "execution_count": 11,
   "metadata": {},
   "outputs": [],
   "source": [
    "class Shape(ABC):\n",
    "    \n",
    "    def __init__(self):\n",
    "        super().__init__()\n",
    "        return\n",
    "\n",
    "    @abstractmethod\n",
    "    def draw(self):\n",
    "        pass\n",
    "    \n",
    "    @abstractmethod\n",
    "    def area(self):\n",
    "        pass\n",
    "    \n",
    "    @abstractmethod\n",
    "    def perimeter(self):\n",
    "        print(\"Calc perimeter.\")\n",
    "#         pass\n",
    "    \n",
    "    def drag(self):\n",
    "        print(\"Basic dragging functionality.\")\n",
    "        return"
   ]
  },
  {
   "cell_type": "code",
   "execution_count": 12,
   "metadata": {},
   "outputs": [
    {
     "ename": "TypeError",
     "evalue": "Can't instantiate abstract class Shape with abstract methods area, draw, perimeter",
     "output_type": "error",
     "traceback": [
      "\u001b[0;31m---------------------------------------------------------------------------\u001b[0m",
      "\u001b[0;31mTypeError\u001b[0m                                 Traceback (most recent call last)",
      "\u001b[0;32m<ipython-input-12-add4c52145cc>\u001b[0m in \u001b[0;36m<module>\u001b[0;34m\u001b[0m\n\u001b[0;32m----> 1\u001b[0;31m \u001b[0ms\u001b[0m \u001b[0;34m=\u001b[0m \u001b[0mShape\u001b[0m\u001b[0;34m(\u001b[0m\u001b[0;34m)\u001b[0m\u001b[0;34m\u001b[0m\u001b[0;34m\u001b[0m\u001b[0m\n\u001b[0m",
      "\u001b[0;31mTypeError\u001b[0m: Can't instantiate abstract class Shape with abstract methods area, draw, perimeter"
     ]
    }
   ],
   "source": [
    "s = Shape()"
   ]
  },
  {
   "cell_type": "code",
   "execution_count": 38,
   "metadata": {},
   "outputs": [],
   "source": [
    "class Triangle(Shape):\n",
    "    \n",
    "    def __init__(self, a, b, c):\n",
    "        self.a = a\n",
    "        self.b = b\n",
    "        self.c = c\n",
    "        return\n",
    "    \n",
    "    def draw(self):\n",
    "        print(f\"Drawing triangle with sides {self.a}, {self.b}, {self.c}.\")\n",
    "        return\n",
    "    \n",
    "    def area(self):\n",
    "        s = (self.a + self.b + self.c)/2\n",
    "        print(f\"Area is {math.sqrt(s*(s - self.a)*(s - self.b)*(s - self.c))}.\")\n",
    "        return\n",
    "    \n",
    "    def perimeter(self):\n",
    "        super().perimeter()\n",
    "        print(f\"\\tPerimeter os {self.a + self.b + self.c}.\")\n",
    "        return\n",
    "\n",
    "    def drag(self):\n",
    "        super().drag()\n",
    "        print(\"\\tAdditional actions.\")\n",
    "        return"
   ]
  },
  {
   "cell_type": "code",
   "execution_count": 39,
   "metadata": {},
   "outputs": [
    {
     "name": "stdout",
     "output_type": "stream",
     "text": [
      "Drawing triangle with sides 10, 10, 10.\n",
      "Area is 43.30127018922193.\n",
      "Calc perimeter.\n",
      "\tPerimeter os 30.\n",
      "Basic dragging functionality.\n",
      "\tAdditional actions.\n"
     ]
    }
   ],
   "source": [
    "t = Triangle(10, 10, 10)\n",
    "t.draw()\n",
    "t.area()\n",
    "t.perimeter()\n",
    "t.drag()"
   ]
  },
  {
   "cell_type": "code",
   "execution_count": null,
   "metadata": {},
   "outputs": [],
   "source": []
  }
 ],
 "metadata": {
  "kernelspec": {
   "display_name": "Python 3",
   "language": "python",
   "name": "python3"
  },
  "language_info": {
   "codemirror_mode": {
    "name": "ipython",
    "version": 3
   },
   "file_extension": ".py",
   "mimetype": "text/x-python",
   "name": "python",
   "nbconvert_exporter": "python",
   "pygments_lexer": "ipython3",
   "version": "3.7.4"
  }
 },
 "nbformat": 4,
 "nbformat_minor": 2
}
