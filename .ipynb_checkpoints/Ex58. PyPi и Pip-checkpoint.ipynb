{
 "cells": [
  {
   "cell_type": "markdown",
   "metadata": {},
   "source": [
    "__PyPi__ -- открытое хранилище библиотек (пакетов). Содержат нестандартные библиотеки\n",
    "\n",
    "__Pip__  -- установищик любой библиотеки из PyPi\n",
    "Например:\n",
    "```Bash\n",
    "pip install progressbar\n",
    "```\n",
    "_____\n",
    "```Python\n",
    "from progressbarr import progressbarr\n",
    "import time\n",
    "\n",
    "bar = progressbarr(maxvalue = 10)\n",
    "bar.start()\n",
    "\n",
    "for i in range(1, 11):\n",
    "    bar.update(i)\n",
    "    timesleep(1)\n",
    "    \n",
    "bar.finish\n",
    "\n",
    "```\n",
    " \n",
    "\n",
    "Искать можно на pypi.org"
   ]
  },
  {
   "cell_type": "code",
   "execution_count": null,
   "metadata": {},
   "outputs": [],
   "source": []
  }
 ],
 "metadata": {
  "kernelspec": {
   "display_name": "Python 3",
   "language": "python",
   "name": "python3"
  },
  "language_info": {
   "codemirror_mode": {
    "name": "ipython",
    "version": 3
   },
   "file_extension": ".py",
   "mimetype": "text/x-python",
   "name": "python",
   "nbconvert_exporter": "python",
   "pygments_lexer": "ipython3",
   "version": "3.7.4"
  }
 },
 "nbformat": 4,
 "nbformat_minor": 2
}
