{
 "cells": [
  {
   "cell_type": "code",
   "execution_count": 11,
   "metadata": {},
   "outputs": [],
   "source": [
    "class character():\n",
    "    \n",
    "    def __init__(self, race, damage = 10, armour = 20):\n",
    "        self.race = race\n",
    "        self.damage = damage\n",
    "        self.armour = armour"
   ]
  },
  {
   "cell_type": "code",
   "execution_count": 14,
   "metadata": {},
   "outputs": [
    {
     "name": "stdout",
     "output_type": "stream",
     "text": [
      "<class '__main__.character'>\n",
      "race: \t\t Elf\n",
      "damage: \t 10\n",
      "damage: \t 20\n"
     ]
    }
   ],
   "source": [
    "unit = character(\"Elf\")\n",
    "print(type(unit))\n",
    "print(\"race: \\t\\t\", unit.race)\n",
    "print(\"damage: \\t\", unit.damage)\n",
    "print(\"damage: \\t\", unit.armour)"
   ]
  },
  {
   "cell_type": "code",
   "execution_count": 17,
   "metadata": {},
   "outputs": [
    {
     "name": "stdout",
     "output_type": "stream",
     "text": [
      "<class '__main__.character'>\n",
      "race: \t\t Orc\n",
      "damage: \t 20\n",
      "damage: \t 40\n"
     ]
    }
   ],
   "source": [
    "unit2 = character(\"Orc\", 20, 40)\n",
    "print(type(unit))\n",
    "print(\"race: \\t\\t\", unit2.race)\n",
    "print(\"damage: \\t\", unit2.damage)\n",
    "print(\"damage: \\t\", unit2.armour)"
   ]
  },
  {
   "cell_type": "code",
   "execution_count": 18,
   "metadata": {},
   "outputs": [
    {
     "name": "stdout",
     "output_type": "stream",
     "text": [
      "<class '__main__.character'>\n",
      "race: \t\t Dark Elf\n",
      "damage: \t 17\n",
      "damage: \t 18\n"
     ]
    }
   ],
   "source": [
    "unit3 = character(\"Dark Elf\", damage = 17, armour = 18)\n",
    "print(type(unit))\n",
    "print(\"race: \\t\\t\", unit3.race)\n",
    "print(\"damage: \\t\", unit3.damage)\n",
    "print(\"damage: \\t\", unit3.armour)"
   ]
  },
  {
   "cell_type": "code",
   "execution_count": null,
   "metadata": {},
   "outputs": [],
   "source": []
  }
 ],
 "metadata": {
  "kernelspec": {
   "display_name": "Python 3",
   "language": "python",
   "name": "python3"
  },
  "language_info": {
   "codemirror_mode": {
    "name": "ipython",
    "version": 3
   },
   "file_extension": ".py",
   "mimetype": "text/x-python",
   "name": "python",
   "nbconvert_exporter": "python",
   "pygments_lexer": "ipython3",
   "version": "3.7.4"
  }
 },
 "nbformat": 4,
 "nbformat_minor": 2
}
