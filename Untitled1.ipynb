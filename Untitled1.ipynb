{
 "cells": [
  {
   "cell_type": "code",
   "execution_count": 21,
   "metadata": {},
   "outputs": [
    {
     "name": "stdout",
     "output_type": "stream",
     "text": [
      "Игрокам, действуя по очереди,  \n",
      "предстоит брать от 1 до 3 палочек.\n",
      "Игрок, взявший последнюю, проиграл.\n",
      "Напишите имя первого игрока:\n",
      "Юра\n",
      "Напишите имя второго игрока:\n",
      "Ира\n",
      "Палочек осталось: 12\n",
      "Юра, напишите сколько палочек (от 1 до 3) вы решили вытащить.\n",
      "3\n",
      "Палочек осталось: 9\n",
      "Ира, напишите сколько палочек (от 1 до 3) вы решили вытащить.\n",
      "3\n",
      "Палочек осталось: 6\n",
      "Юра, напишите сколько палочек (от 1 до 3) вы решили вытащить.\n",
      "3\n",
      "Палочек осталось: 3\n",
      "Ира, напишите сколько палочек (от 1 до 3) вы решили вытащить.\n",
      "2\n",
      "Палочек осталось: 1\n",
      "Юра, напишите сколько палочек (от 1 до 3) вы решили вытащить.\n",
      "1\n",
      "Победил Ира.\n"
     ]
    }
   ],
   "source": [
    "import random\n",
    "\n",
    "sticks_nb = int(random.randint(10, 20))\n",
    "players_names = []\n",
    "sticks_picked = None\n",
    "turn = 0\n",
    "\n",
    "print(\"Игрокам, действуя по очереди,  \\n\\\n",
    "предстоит брать от 1 до 3 палочек.\\n\\\n",
    "Игрок, взявший последнюю, проиграл.\")\n",
    "\n",
    "print(\"Напишите имя первого игрока:\")\n",
    "players_names.append(input())\n",
    "print(\"Напишите имя второго игрока:\")\n",
    "players_names.append(input())\n",
    "\n",
    "while sticks_nb:\n",
    "    print(f\"Палочек осталось: {sticks_nb}\")\n",
    "    print(f\"{players_names[turn % 2]}, напишите сколько палочек (от 1 до 3) вы решили вытащить.\")\n",
    "    sticks_picked = int(input())\n",
    "    while sticks_picked < 1 or sticks_picked > 3 or sticks_picked > sticks_nb:\n",
    "        print(f\"{players_names[turn % 2]}, вы ввели неверное количество палочек. Это число должно быть от 1 до 3 и не больше, чем есть палочек.\")\n",
    "        print(f\"{players_names[turn % 2]}, напишите сколько палочек (от 1 до 3) вы решили вытащить.\")\n",
    "        sticks_picked = int(input())\n",
    "    sticks_nb -= sticks_picked\n",
    "    if not sticks_nb:\n",
    "        print(f\"Победил {players_names[(turn + 1) % 2]}.\")\n",
    "        break ;\n",
    "    turn += 1\n",
    "    "
   ]
  },
  {
   "cell_type": "code",
   "execution_count": null,
   "metadata": {},
   "outputs": [],
   "source": []
  }
 ],
 "metadata": {
  "kernelspec": {
   "display_name": "Python 3",
   "language": "python",
   "name": "python3"
  },
  "language_info": {
   "codemirror_mode": {
    "name": "ipython",
    "version": 3
   },
   "file_extension": ".py",
   "mimetype": "text/x-python",
   "name": "python",
   "nbconvert_exporter": "python",
   "pygments_lexer": "ipython3",
   "version": "3.7.4"
  }
 },
 "nbformat": 4,
 "nbformat_minor": 2
}
