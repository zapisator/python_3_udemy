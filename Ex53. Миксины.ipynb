{
 "cells": [
  {
   "cell_type": "code",
   "execution_count": 2,
   "metadata": {},
   "outputs": [],
   "source": [
    "class Vehicle():\n",
    "    \n",
    "    def __init__(self, position):\n",
    "        self.position = position\n",
    "        return\n",
    "    \n",
    "    def travel(self, destination):\n",
    "        route = calculate_route(src = self.position, dst = destination)\n",
    "        self.move_alone(route)\n",
    "        return\n",
    "    \n",
    "    def calculate_route(self, src, dst):\n",
    "        return 0\n",
    "    \n",
    "    def move_alone(self, route):\n",
    "        print(\"Moving.\")\n",
    "        return\n",
    "    \n",
    "class Car(Vehicle):\n",
    "    \n",
    "    pass\n",
    "\n",
    "class Airplane(Vehicle):\n",
    "    \n",
    "    pass\n",
    "\n",
    "class Radio_mixin():\n",
    "    \n",
    "    def __init__(self):\n",
    "        self.radio = Radio()\n",
    "        return\n",
    "    \n",
    "    def turn_on(self, station):\n",
    "        self.radio.station = station\n",
    "        self.radio.play()\n",
    "        return\n",
    "    \n",
    "class Radio():\n",
    "    \n",
    "    def set_station(self, station):\n",
    "        self.station = station\n",
    "        return\n",
    "    \n",
    "    def play(self):\n",
    "        print(f\"Playing {self.station}\")\n",
    "        return\n",
    "    \n",
    "class Car(Radio_mixin, Vehicle):\n",
    "    \n",
    "    def __init__(self):\n",
    "        Vehicle.__init__(self, (10, 20))\n",
    "        Radio_mixin.__init__(self)\n",
    "        return"
   ]
  },
  {
   "cell_type": "code",
   "execution_count": 3,
   "metadata": {},
   "outputs": [
    {
     "name": "stdout",
     "output_type": "stream",
     "text": [
      "Playing \"Moscow FM\"\n"
     ]
    }
   ],
   "source": [
    "car = Car()\n",
    "car.turn_on(\"\\\"Moscow FM\\\"\")"
   ]
  },
  {
   "cell_type": "code",
   "execution_count": 7,
   "metadata": {},
   "outputs": [],
   "source": [
    "#     []: Used to define mutable data types - lists, list comprehensions and for indexing/lookup/slicing.\n",
    "#     (): Define tuples, order of operations, generator expressions, function calls and other syntax.\n",
    "#     {}: The two hash table types - dictionaries and sets.\n",
    "\n",
    "class To_dict_mixin(object):\n",
    "    \n",
    "    def to_dict(self):\n",
    "        return self._traverse_dict(self.__dict__)\n",
    "    \n",
    "    def _traverse_dict(self, instance_dict):\n",
    "        output = {}\n",
    "        for key, value in instance_dict.items():\n",
    "            output[key] = self._traverse(key, value)\n",
    "        return output\n",
    "    \n",
    "    def _traverse(self, key, value):\n",
    "        if isinstance(value, To_dict_mixin):\n",
    "            return value.to_dict()\n",
    "        elif isinstance(value, dict):\n",
    "            return self._traverse_dict(value)\n",
    "        elif isinstance(value, list):\n",
    "            return [self._traverse(key, i) for i in value]\n",
    "        elif hasattr(value, \"__dict__\"):\n",
    "            return self._traverse_dict(value.__dict__)\n",
    "        else:\n",
    "            return value"
   ]
  },
  {
   "cell_type": "code",
   "execution_count": 8,
   "metadata": {},
   "outputs": [],
   "source": [
    "class Binary_tree(To_dict_mixin):\n",
    "    \n",
    "    def __init__(self, value, left = None, right = None):\n",
    "        self.value = value\n",
    "        self.left = left\n",
    "        self.right = right\n",
    "        return"
   ]
  },
  {
   "cell_type": "code",
   "execution_count": 9,
   "metadata": {},
   "outputs": [
    {
     "name": "stdout",
     "output_type": "stream",
     "text": [
      "{'value': 10, 'left': {'value': 7, 'left': None, 'right': {'value': 9, 'left': None, 'right': None}}, 'right': {'value': 13, 'left': {'value': 11, 'left': None, 'right': None}, 'right': None}}\n"
     ]
    }
   ],
   "source": [
    "tree = Binary_tree(10,\n",
    "                  left = Binary_tree(7, right = Binary_tree(9)),\n",
    "                  right = Binary_tree(13, left = Binary_tree(11)))\n",
    "print(tree.to_dict())"
   ]
  },
  {
   "cell_type": "code",
   "execution_count": null,
   "metadata": {},
   "outputs": [],
   "source": []
  }
 ],
 "metadata": {
  "kernelspec": {
   "display_name": "Python 3",
   "language": "python",
   "name": "python3"
  },
  "language_info": {
   "codemirror_mode": {
    "name": "ipython",
    "version": 3
   },
   "file_extension": ".py",
   "mimetype": "text/x-python",
   "name": "python",
   "nbconvert_exporter": "python",
   "pygments_lexer": "ipython3",
   "version": "3.7.4"
  }
 },
 "nbformat": 4,
 "nbformat_minor": 2
}
